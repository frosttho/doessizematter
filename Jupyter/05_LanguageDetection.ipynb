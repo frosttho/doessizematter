{
 "cells": [
  {
   "cell_type": "markdown",
   "id": "21aa8621",
   "metadata": {},
   "source": [
    "_Does size matter? The effect of Instagram influencer account size on post sentiment and resulting marketing outcomes_\n",
    "\n",
    "_Master's thesis by Thomas A. Frost_"
   ]
  },
  {
   "cell_type": "markdown",
   "id": "3b96842b",
   "metadata": {},
   "source": [
    "# Part 5: Language Detection"
   ]
  },
  {
   "cell_type": "markdown",
   "id": "09e3ddba",
   "metadata": {},
   "source": [
    "## 02 - Setup"
   ]
  },
  {
   "cell_type": "code",
   "execution_count": null,
   "id": "5207a8e0",
   "metadata": {},
   "outputs": [],
   "source": [
    "library(tidyverse)\n",
    "library(fastText)\n",
    "library(readxl)"
   ]
  },
  {
   "cell_type": "markdown",
   "id": "bf2277cb",
   "metadata": {},
   "source": [
    "## 03 - Data Import"
   ]
  },
  {
   "cell_type": "code",
   "execution_count": null,
   "id": "e1c03e54",
   "metadata": {},
   "outputs": [],
   "source": [
    "dataset <- read_csv(\"../data/finaldataset_v2.csv\", col_types = \"ccnccnffnnfnf\")\n",
    "topics_account <- read_csv(\"../data/topics_account.csv\", col_types = \"fc\")\n",
    "topics_posts <- read_csv(\"../data/topics_posts.csv\", col_types = \"fc\")"
   ]
  },
  {
   "cell_type": "markdown",
   "id": "62c52647",
   "metadata": {},
   "source": [
    "## 04 - Detection"
   ]
  },
  {
   "cell_type": "code",
   "execution_count": null,
   "id": "4ec1409c",
   "metadata": {},
   "outputs": [],
   "source": [
    "large_model = \"../lid.176.bin\"\n",
    "\n",
    "language = language_identification(input_obj = dataset$Text,\n",
    "                                   pre_trained_language_model_path = large_model,\n",
    "                                   verbose = TRUE)\n",
    "\n",
    "language$iso_lang_1 <- as.factor(language$iso_lang_1)\n",
    "\n",
    "summary(language$iso_lang_1)\n",
    "\n",
    "postlang <- cbind(dataset, language$iso_lang_1)\n",
    "colnames(postlang)[28] <- \"language\"\n",
    "postlang_non_en <- filter(postlang, language != \"en\")"
   ]
  },
  {
   "cell_type": "markdown",
   "id": "e240c62e",
   "metadata": {},
   "source": [
    "## 05 - Export for manual check in Excel\n"
   ]
  },
  {
   "cell_type": "code",
   "execution_count": null,
   "id": "10d94af1",
   "metadata": {},
   "outputs": [],
   "source": [
    "write_excel_csv(postlang_non_en, \"../data/check-for-non-english.csv\")"
   ]
  },
  {
   "cell_type": "markdown",
   "id": "9cf62b2f",
   "metadata": {},
   "source": [
    "## 06 - Implement manual changes"
   ]
  },
  {
   "cell_type": "code",
   "execution_count": null,
   "id": "265366ed",
   "metadata": {},
   "outputs": [],
   "source": [
    "manual_non_en <- read_excel(\"../data/05-1_LanguageDetection.xlsx\")\n",
    "\n",
    "manual_non_en <- manual_non_en[-1]\n",
    "\n",
    "dataset2 <- left_join(postlang, manual_non_en, by = \"Post.ID\", keep = TRUE, na_matches = \"never\")\n",
    "\n",
    "dataset2 <- filter(dataset2, (language.x == \"en\" | language.y == \"en\"))\n",
    "dataset2 <- dataset2[1:27]\n",
    "\n",
    "colnames(dataset2)[1] <- \"Post.ID\"\n",
    "colnames(dataset2)[5] <- \"Text\""
   ]
  },
  {
   "cell_type": "markdown",
   "id": "8082d294",
   "metadata": {},
   "source": [
    "## 07 - delete duplicate post"
   ]
  },
  {
   "cell_type": "code",
   "execution_count": null,
   "id": "3aa8625e",
   "metadata": {},
   "outputs": [],
   "source": [
    "dataset2 <- dataset2[-45609,]\n",
    "rownames(dataset2) <- 1:dim(dataset2)[1]"
   ]
  },
  {
   "cell_type": "markdown",
   "id": "55e5e9e0",
   "metadata": {},
   "source": [
    "## 08 - Adding Topics"
   ]
  },
  {
   "cell_type": "code",
   "execution_count": null,
   "id": "d55a4d5f",
   "metadata": {},
   "outputs": [],
   "source": [
    "colnames(topics_account) <- c(\"label\", \"Username\")\n",
    "\n",
    "dataset3 <- left_join(dataset2, topics_account, by = \"Username\", keep = FALSE, na_matches = \"never\")\n",
    "colnames(dataset3)[28] <- \"Topic.Account\"\n",
    "\n",
    "dataset3 <- left_join(dataset3, topics_posts, by = \"Post.ID\", keep = FALSE, na_matches = \"never\")\n",
    "colnames(dataset3)[29] <- \"Topic.Post\""
   ]
  },
  {
   "cell_type": "markdown",
   "id": "57e7379b",
   "metadata": {},
   "source": [
    "## 09 - Finally export the final dataset"
   ]
  },
  {
   "cell_type": "code",
   "execution_count": null,
   "id": "930d3fdb",
   "metadata": {},
   "outputs": [],
   "source": [
    "write_csv(dataset3, \"../data/finaldataset_v3.csv\")"
   ]
  }
 ],
 "metadata": {
  "kernelspec": {
   "display_name": "R",
   "language": "R",
   "name": "ir"
  },
  "language_info": {
   "codemirror_mode": "r",
   "file_extension": ".r",
   "mimetype": "text/x-r-source",
   "name": "R",
   "pygments_lexer": "r",
   "version": "4.2.3"
  }
 },
 "nbformat": 4,
 "nbformat_minor": 5
}
