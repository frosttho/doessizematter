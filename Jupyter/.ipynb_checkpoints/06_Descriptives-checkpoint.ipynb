{
 "cells": [
  {
   "cell_type": "markdown",
   "id": "21aa8621",
   "metadata": {},
   "source": [
    "_Does size matter? The effect of Instagram influencer account size on post sentiment and resulting marketing outcomes_\n",
    "\n",
    "_Master's thesis by Thomas A. Frost_"
   ]
  },
  {
   "cell_type": "markdown",
   "id": "3b96842b",
   "metadata": {},
   "source": [
    "# Part 6: Descriptives"
   ]
  },
  {
   "cell_type": "markdown",
   "id": "09e3ddba",
   "metadata": {},
   "source": [
    "## Library Installs"
   ]
  },
  {
   "cell_type": "code",
   "execution_count": null,
   "id": "5207a8e0",
   "metadata": {},
   "outputs": [],
   "source": []
  },
  {
   "cell_type": "markdown",
   "id": "bf2277cb",
   "metadata": {},
   "source": [
    "## Loading"
   ]
  },
  {
   "cell_type": "code",
   "execution_count": null,
   "id": "e1c03e54",
   "metadata": {},
   "outputs": [],
   "source": []
  },
  {
   "cell_type": "markdown",
   "id": "62c52647",
   "metadata": {},
   "source": [
    "## Functions"
   ]
  },
  {
   "cell_type": "code",
   "execution_count": null,
   "id": "4ec1409c",
   "metadata": {},
   "outputs": [],
   "source": []
  },
  {
   "cell_type": "markdown",
   "id": "e240c62e",
   "metadata": {},
   "source": [
    "## Here comes the code...\n"
   ]
  },
  {
   "cell_type": "code",
   "execution_count": null,
   "id": "10d94af1",
   "metadata": {},
   "outputs": [],
   "source": []
  }
 ],
 "metadata": {
  "kernelspec": {
   "display_name": "R",
   "language": "R",
   "name": "ir"
  },
  "language_info": {
   "codemirror_mode": "r",
   "file_extension": ".r",
   "mimetype": "text/x-r-source",
   "name": "R",
   "pygments_lexer": "r",
   "version": "4.2.3"
  }
 },
 "nbformat": 4,
 "nbformat_minor": 5
}
