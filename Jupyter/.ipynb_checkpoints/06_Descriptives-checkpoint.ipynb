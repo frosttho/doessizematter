{
 "cells": [
  {
   "cell_type": "markdown",
   "id": "21aa8621",
   "metadata": {},
   "source": [
    "_Does size matter? The effect of Instagram influencer account size on post sentiment and resulting marketing outcomes_\n",
    "\n",
    "_Master's thesis by Thomas A. Frost_"
   ]
  },
  {
   "cell_type": "markdown",
   "id": "3b96842b",
   "metadata": {},
   "source": [
    "# Part 6: Descriptives\n",
    "\n",
    "This file creates the reported descriptive analysis"
   ]
  },
  {
   "cell_type": "markdown",
   "id": "09e3ddba",
   "metadata": {},
   "source": [
    "## 02 - Setup"
   ]
  },
  {
   "cell_type": "code",
   "execution_count": null,
   "id": "5207a8e0",
   "metadata": {},
   "outputs": [],
   "source": [
    "library(tidyverse)\n",
    "library(readxl)\n",
    "library(PMCMRplus)\n",
    "library(nortest)\n",
    "library(gridExtra)\n",
    "library(cowplot)\n",
    "library(ggpubr)"
   ]
  },
  {
   "cell_type": "markdown",
   "id": "bf2277cb",
   "metadata": {},
   "source": [
    "## 03 - Data Preparation\n",
    "\n",
    "### 03.01 - Read data"
   ]
  },
  {
   "cell_type": "code",
   "execution_count": null,
   "id": "e1c03e54",
   "metadata": {},
   "outputs": [],
   "source": [
    "dataset <- read_csv(\"../data/finaldataset_v3.csv\", col_types = \"ccnccnffnnfnlnnnclfcclcffnnff\")\n",
    "profiles <- read_csv2(\"../data/profiles_gender.csv\", col_types = \"cnfllnff\")\n",
    "profilesv2 <- read_csv(\"../data/profiles_v2.csv\", col_types = \"cnflnlnnnclfcclcf\")\n",
    "topics_account <- read_csv(\"../data/topics_account.csv\", col_types = \"fc\")\n",
    "initialscraping <- read_tsv(\"../data/Instagram__Posts_corrected_v5.tsv\", col_types = \"ccncccnncccfcn\")\n",
    "moreinitialscraping <- read_delim(\"../data/Instagram__Posts_corrected.tsv\", delim = \"\\t\", quote=\"\", col_types = \"ccnTccnnccccc\")\n",
    "created <- read_csv(\"../data/final_users_list_created.csv\", col_types = \"ncc\")\n",
    "\n",
    "created <- created[-1]\n",
    "Sys.setlocale(category = \"LC_ALL\", locale = \"en\")\n",
    "created$created <- as.Date(paste(\"01\", created$created), format = \"%d %B %Y\")"
   ]
  },
  {
   "cell_type": "markdown",
   "id": "62c52647",
   "metadata": {},
   "source": [
    "### 03.02 - combine account-level data"
   ]
  },
  {
   "cell_type": "code",
   "execution_count": null,
   "id": "4ec1409c",
   "metadata": {},
   "outputs": [],
   "source": [
    "colnames(topics_account) <- c(\"label\", \"Username\")\n",
    "\n",
    "profiles <- left_join(profiles, topics_account, by = \"Username\", keep = FALSE, na_matches = \"never\")\n",
    "colnames(profiles)[9] <- \"Topic.Account\"\n",
    "\n",
    "dataset$positive <- dataset$sentiment.label == \"POSITIVE\"\n",
    "dataset$positive <- dataset$positive * 1"
   ]
  },
  {
   "cell_type": "markdown",
   "id": "e240c62e",
   "metadata": {},
   "source": [
    "### 03.03 - group all data to account level\n"
   ]
  },
  {
   "cell_type": "code",
   "execution_count": null,
   "id": "10d94af1",
   "metadata": {},
   "outputs": [],
   "source": [
    "by_account <- dataset %>%\n",
    "  group_by(Username) %>%\n",
    "  summarise(positives = sum(positive), num_posts = n()) %>%\n",
    "  merge(data.frame(Username = profiles$Username,\n",
    "                   followers.new = profiles$followers_new,\n",
    "                   size.new = profiles$size_new,\n",
    "                   Topic.Account = profiles$Topic.Account,\n",
    "                   gender = profiles$gender,\n",
    "                   followees = profilesv2$followees,\n",
    "                   is_business_account = profilesv2$is_business_account,\n",
    "                   is_verified = profilesv2$is_verified\n",
    "  ),\n",
    "  by = \"Username\", all.y = FALSE, sort = FALSE)\n",
    "\n",
    "by_account$rel.positives <- by_account$positives / by_account$num_posts\n",
    "by_account$size.new <- ordered(by_account$size.new, c(\"nano\", \"mikro\", \"midtier\", \"makro\", \"mega\"))\n",
    "by_account$rel.negatives <- 1 - by_account$rel.positives\n",
    "\n",
    "remove(list = setdiff(ls(), c(\"dataset\", \"by_account\")))         # remove everything that is not needed for running the model estimation\n"
   ]
  },
  {
   "cell_type": "markdown",
   "id": "a1fef61b",
   "metadata": {},
   "source": [
    "## 04 - Key Figures\n",
    "### 04.01 - (Cross) tables"
   ]
  },
  {
   "cell_type": "code",
   "execution_count": null,
   "id": "6ffdf5cf",
   "metadata": {},
   "outputs": [],
   "source": [
    "# Account variables\n",
    "table(dataset$size.new, useNA = \"no\")/dim(dataset)[1]                             # Share of posts that can be attributed to an account of size x\n",
    "\n",
    "tapply(by_account$num_posts, by_account$size.new, mean)                           # average number of posts per account in each size class\n",
    "\n",
    "table(by_account$is_business_account)/dim(by_account)[1]                          # number of business accounts in % globally\n",
    "table(by_account$is_business_account, by_account$size.new) / rep(as.vector(table(by_account$size.new)), each = 2)\n",
    "                                                                                  # in % per size class\n",
    "\n",
    "table(by_account$is_verified)/dim(by_account)[1]                                  # verified accounts in % globally\n",
    "\n",
    "table(by_account$gender)/dim(by_account)[1]                                       # Geschlechterverteilung\n",
    "\n",
    "\n",
    "# post variables\n",
    "table(dataset$sentiment.label)/dim(dataset)[1]                                    # Anteile positive und negative Posts\n",
    "\n",
    "summary(filter(dataset, Likes > -1)$Likes)\n",
    "\n",
    "summary(filter(dataset, Likes > -1)$Comments)"
   ]
  },
  {
   "cell_type": "markdown",
   "id": "27fb00b1",
   "metadata": {},
   "source": [
    "### 04.02 - Plots"
   ]
  },
  {
   "cell_type": "code",
   "execution_count": null,
   "id": "27c99ac7",
   "metadata": {},
   "outputs": [],
   "source": [
    "# Boxplots of Comments and Likes\n",
    "\n",
    "boxplot_likes <- ggplot(filter(dataset, Likes > -1), aes(y = Likes)) +\n",
    "  geom_boxplot() +\n",
    "  theme_light() +\n",
    "  theme(axis.text.x=element_blank(),\n",
    "        panel.border = element_blank()) +\n",
    "  scale_y_log10() +\n",
    "  ylab(\"\") +\n",
    "  ggtitle(\"Distribution of Likes\")\n",
    "\n",
    "\n",
    "boxplot_comments <- ggplot(filter(dataset, Likes > -1), aes(y = Comments)) +\n",
    "  geom_boxplot() +\n",
    "  scale_y_log10() +\n",
    "  theme_light() +\n",
    "  theme(axis.text.x=element_blank(),\n",
    "        panel.border = element_blank()) +\n",
    "  ylab(\"\") +\n",
    "  ggtitle(\"Distribution of Comments\")\n",
    "\n",
    "#boxplot_likes\n",
    "#boxplot_comments\n",
    "\n",
    "do.call(\"grid.arrange\", c(list(boxplot_likes, boxplot_comments), ncol=2))"
   ]
  },
  {
   "cell_type": "code",
   "execution_count": null,
   "id": "08f3e48f",
   "metadata": {},
   "outputs": [],
   "source": [
    "# Boxplot of average share of positive posts in each size class\n",
    "\n",
    "by_account$size.new <- factor(by_account$size.new, ordered = FALSE)\n",
    "by_account$size.new <- as.character(by_account$size.new)\n",
    "\n",
    "by_account$size.new[by_account$size.new == \"mikro\"] <- \"micro\"\n",
    "by_account$size.new[by_account$size.new == \"makro\"] <- \"macro\"\n",
    "\n",
    "by_account$size.new <- factor(by_account$size.new, ordered = TRUE, levels = c(\"nano\", \"micro\", \"midtier\", \"macro\", \"mega\"))\n",
    "\n",
    "by_account.plotdata <- filter(by_account, is.na(size.new) == FALSE)\n",
    "\n",
    "by_account_plot <- ggplot(by_account.plotdata, aes(x = size.new, y = rel.positives)) +\n",
    "  geom_boxplot() + \n",
    "  xlab(\"Size Classes\") + \n",
    "  ylab(\"Share of positive posts\") +\n",
    "  ggtitle(\"Share of positive posts per Instagram account\") +\n",
    "  theme_light() +\n",
    "  theme(panel.border = element_blank())\n",
    "\n",
    "by_account_plot"
   ]
  },
  {
   "cell_type": "markdown",
   "id": "b5ce36c5",
   "metadata": {},
   "source": [
    "## 05 - ANOVA SiEBERT\n",
    "### 05.01 - Requirements"
   ]
  },
  {
   "cell_type": "code",
   "execution_count": null,
   "id": "e1d97885",
   "metadata": {},
   "outputs": [],
   "source": [
    "hartleyTest(by_account$rel.positives, by_account$size.new)               # Hartley (F_max) Test for Homoscedasticity\n",
    "\n",
    "# test for normal distribution\n",
    "make_plot <- function(by_account, steps, sizeclass) {\n",
    "  by_acct_mean <- tapply(by_account$rel.positives, by_account$size.new, mean)\n",
    "  by_acct_sd <- tapply(by_account$rel.positives, by_account$size.new, sd)\n",
    "  \n",
    "  # Beobachtungen ################################################################\n",
    "  \n",
    "  sort_by_account <- by_account[order(by_account$rel.positives),]\n",
    "  \n",
    "  sort_by_account$posclass <- floor(sort_by_account$rel.positives / steps)\n",
    "  \n",
    "  graphdata <- sort_by_account %>%\n",
    "    filter(size.new == sizeclass) %>%\n",
    "    select(\"posclass\") %>%\n",
    "    table %>%\n",
    "    as.data.frame\n",
    "  \n",
    "  graphdata$posclass <- as.numeric(as.character(graphdata$posclass))\n",
    "  \n",
    "  graphdata <- merge(data.frame(posclass = 1:(1/steps)), graphdata, by = 'posclass', all.x = TRUE, sort = TRUE)\n",
    "  \n",
    "  graphdata$Freq[is.na(graphdata$Freq)] <- 0\n",
    "  \n",
    "  graphdata$min <- graphdata$posclass * steps\n",
    "  graphdata$max <- (graphdata$posclass + 1) * steps\n",
    "  \n",
    "  \n",
    "  # Normalverteilung #############################################################\n",
    "  \n",
    "  graphdata$norm <- (pnorm(graphdata$max, mean = by_acct_mean[sizeclass], sd = by_acct_sd[sizeclass]) - pnorm(graphdata$min, mean = by_acct_mean[sizeclass], sd = by_acct_sd[sizeclass])) * table(by_account$size.new)[sizeclass]\n",
    "  \n",
    "  #graphdata$norm <- dnorm(x = graphdata$posclass, mean = by_acct_mean[sizeclass], sd = by_acct_sd[sizeclass]) * 22\n",
    "  \n",
    "  graphdata <- reshape(graphdata, direction = 'long', varying = c(\"Freq\", \"norm\"), v.names = \"Freq\", timevar = \"source\", times = c(\"Freq\", \"Norm\"))\n",
    "  \n",
    "  # Graph ########################################################################\n",
    "  \n",
    "  title <- sizeclass\n",
    "  \n",
    "\n",
    "  graphdata_graph <- ggplot(graphdata) +\n",
    "    geom_col(aes(x = posclass, y = Freq, fill = source), position = \"dodge\") +\n",
    "    ggtitle(title) +\n",
    "    theme_light() +\n",
    "    theme(panel.border = element_blank()) +\n",
    "    theme(legend.position = \"none\") +\n",
    "    theme(axis.title.x=element_blank(),\n",
    "          axis.text.x=element_blank(),\n",
    "          axis.ticks.x=element_blank())\n",
    "  \n",
    "  return(graphdata_graph)\n",
    "}\n",
    "\n",
    "a <- lapply(c(\"nano\", \"micro\", \"midtier\", \"macro\", \"mega\"), function(size) {\n",
    "  make_plot(by_account = by_account, steps = 0.1, sizeclass = size)\n",
    "})\n",
    "\n",
    "legend <- ggplot(data.frame(Legend = c(\"empirical distribution\",\"normal distribution\",\"normal distribution\",\"empirical distribution\"), b = c(1,1,1,1), c = c(2,2,2,2))) +\n",
    "  geom_col(aes(x = b, y = c, fill = Legend)) +\n",
    "  theme(legend.title = element_blank())\n",
    "\n",
    "legend <- as_ggplot(get_legend(legend))\n",
    "\n",
    "a <- append(a, list(legend))\n",
    "\n",
    "do.call(\"grid.arrange\", c(a, ncol=2))      # Adjusted from https://stackoverflow.com/questions/10706753/how-do-i-arrange-a-variable-list-of-plots-using-grid-arrange\n"
   ]
  },
  {
   "cell_type": "markdown",
   "id": "93451f19",
   "metadata": {},
   "source": [
    "### 05.02 - Execution"
   ]
  },
  {
   "cell_type": "code",
   "execution_count": null,
   "id": "ab3e483e",
   "metadata": {},
   "outputs": [],
   "source": [
    "anova <- aov(by_account$rel.negatives ~ by_account$size.new)\n",
    "summary(anova)"
   ]
  }
 ],
 "metadata": {
  "kernelspec": {
   "display_name": "R",
   "language": "R",
   "name": "ir"
  },
  "language_info": {
   "codemirror_mode": "r",
   "file_extension": ".r",
   "mimetype": "text/x-r-source",
   "name": "R",
   "pygments_lexer": "r",
   "version": "4.2.3"
  }
 },
 "nbformat": 4,
 "nbformat_minor": 5
}
