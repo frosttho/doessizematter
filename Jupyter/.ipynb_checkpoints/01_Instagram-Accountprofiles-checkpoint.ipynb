{
 "cells": [
  {
   "cell_type": "markdown",
   "id": "21aa8621",
   "metadata": {},
   "source": [
    "_Does size matter? The effect of Instagram influencer account size on post sentiment and resulting marketing outcomes_\n",
    "\n",
    "_Master's thesis by Thomas A. Frost_"
   ]
  },
  {
   "cell_type": "markdown",
   "id": "3b96842b",
   "metadata": {},
   "source": [
    "# Part 1: Instagram Account profiles\n",
    "\n",
    "This file is based on downloaded data files from the two data sources"
   ]
  },
  {
   "cell_type": "markdown",
   "id": "09e3ddba",
   "metadata": {},
   "source": [
    "## 02 - Setup"
   ]
  },
  {
   "cell_type": "code",
   "execution_count": null,
   "id": "5207a8e0",
   "metadata": {},
   "outputs": [],
   "source": [
    "library(tidyverse)\n",
    "library(reshape)"
   ]
  },
  {
   "cell_type": "markdown",
   "id": "bf2277cb",
   "metadata": {},
   "source": [
    "## 03 - Data Import"
   ]
  },
  {
   "cell_type": "code",
   "execution_count": null,
   "id": "e1c03e54",
   "metadata": {},
   "outputs": [],
   "source": [
    "profiles_target <- read_csv(\"../data/fulldf-export.csv\")\n",
    "profiles_read <- read_tsv(\"../data/Instagram__Profiles.tsv\")\n",
    "profiles_error <- read_csv(\"../data/UserList_NoInstagramAccountFound.csv\", col_names = FALSE)\n",
    "\n",
    "colnames(profiles_target)[2] <- 'Username'\n",
    "colnames(profiles_error)[1] <- 'Username'\n",
    "\n",
    "profiles_error$found <- FALSE;\n",
    "profiles_read$found <- TRUE;"
   ]
  },
  {
   "cell_type": "markdown",
   "id": "2ec1f0c4",
   "metadata": {},
   "source": [
    "# 04 - Matching"
   ]
  },
  {
   "cell_type": "code",
   "execution_count": null,
   "id": "e78671e8",
   "metadata": {},
   "outputs": [],
   "source": [
    "profiles_target_short <- data.frame(profiles_target$Username, profiles_target$Instagram.Followers, profiles_target$size)\n",
    "colnames(profiles_target_short) <- c(\"Username\", \"followers_old\", \"size_old\")\n",
    "\n",
    "profiles <- merge_recurse(list(profiles_target_short, profiles_read, profiles_error), by = \"Username\")\n",
    "colnames(profiles)[8] <- 'followers_new'"
   ]
  },
  {
   "cell_type": "markdown",
   "id": "839a40cc",
   "metadata": {},
   "source": [
    "## 05 - Descriptive"
   ]
  },
  {
   "cell_type": "code",
   "execution_count": null,
   "id": "15e7d2db",
   "metadata": {},
   "outputs": [],
   "source": [
    "summary(profiles$found)\n",
    "summary(profiles$is_private)"
   ]
  },
  {
   "cell_type": "markdown",
   "id": "c2fa8f8f",
   "metadata": {},
   "source": [
    "## 06 - change in account size"
   ]
  },
  {
   "cell_type": "code",
   "execution_count": null,
   "id": "cf72a66a",
   "metadata": {},
   "outputs": [],
   "source": [
    "getsize <- function(followers) {\n",
    "  result <- case_when(\n",
    "    (followers <= 1000) ~ NA,\n",
    "    (followers > 1000 && followers <= 10000) ~ \"nano\",\n",
    "    (followers > 10000 && followers <= 50000) ~ \"mikro\",\n",
    "    (followers > 50000 && followers <= 500000) ~ \"midtier\",\n",
    "    (followers > 500000 && followers <= 1000000) ~ \"makro\",\n",
    "    (followers > 1000000) ~ \"mega\"\n",
    "  )\n",
    "  return(result)\n",
    "}\n",
    "\n",
    "profiles$size_new <- unlist(map(profiles$followers_new, getsize))\n",
    "\n",
    "profiles$size_new <- as.factor(profiles$size_new)\n",
    "\n",
    "table(profiles$size_old, profiles$size_new, useNA = \"ifany\")"
   ]
  },
  {
   "cell_type": "code",
   "execution_count": null,
   "id": "95ffd84d",
   "metadata": {},
   "outputs": [],
   "source": [
    "write_csv(profiles, \"../data/profiles_v2.csv\")"
   ]
  }
 ],
 "metadata": {
  "kernelspec": {
   "display_name": "R",
   "language": "R",
   "name": "ir"
  },
  "language_info": {
   "codemirror_mode": "r",
   "file_extension": ".r",
   "mimetype": "text/x-r-source",
   "name": "R",
   "pygments_lexer": "r",
   "version": "4.2.3"
  }
 },
 "nbformat": 4,
 "nbformat_minor": 5
}
