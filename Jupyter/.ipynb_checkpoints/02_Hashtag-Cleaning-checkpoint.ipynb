{
 "cells": [
  {
   "cell_type": "markdown",
   "id": "21aa8621",
   "metadata": {},
   "source": [
    "_Does size matter? The effect of Instagram influencer account size on post sentiment and resulting marketing outcomes_\n",
    "\n",
    "_Master's thesis by Thomas A. Frost_"
   ]
  },
  {
   "cell_type": "markdown",
   "id": "3b96842b",
   "metadata": {},
   "source": [
    "# Part 2: Hashtag Cleaning\n",
    "\n",
    "This file performs data cleaning that is necessary **before** the execution of sentiment analysis by SiEBERT"
   ]
  },
  {
   "cell_type": "markdown",
   "id": "09e3ddba",
   "metadata": {},
   "source": [
    "## 02 - Setup"
   ]
  },
  {
   "cell_type": "code",
   "execution_count": null,
   "id": "5207a8e0",
   "metadata": {},
   "outputs": [],
   "source": [
    "library(tidyverse)\n",
    "library(rlist)"
   ]
  },
  {
   "cell_type": "markdown",
   "id": "bf2277cb",
   "metadata": {},
   "source": [
    "## 03 - Data Import"
   ]
  },
  {
   "cell_type": "code",
   "execution_count": null,
   "id": "e1c03e54",
   "metadata": {},
   "outputs": [],
   "source": [
    "posts <- read_delim(\"../data/Instagram__Posts_corrected.tsv\", delim = \"\\t\", quote=\"\", col_types = \"ccnTccnnccccc\")"
   ]
  },
  {
   "cell_type": "markdown",
   "id": "62c52647",
   "metadata": {},
   "source": [
    "## 04 - Split posts in words"
   ]
  },
  {
   "cell_type": "code",
   "execution_count": null,
   "id": "4ec1409c",
   "metadata": {},
   "outputs": [],
   "source": [
    "posts$Words <- strsplit(posts$Text, \" \")"
   ]
  },
  {
   "cell_type": "markdown",
   "id": "e240c62e",
   "metadata": {},
   "source": [
    "## 05 - Hashtag detection\n"
   ]
  },
  {
   "cell_type": "code",
   "execution_count": null,
   "id": "10d94af1",
   "metadata": {},
   "outputs": [],
   "source": [
    "hashtag_detection <- function(strng) {\n",
    "  return(substring(strng, 1, 1) == \"#\")\n",
    "}\n",
    "\n",
    "posts$Hashtags <- lapply(posts$Words, hashtag_detection)"
   ]
  },
  {
   "cell_type": "markdown",
   "id": "7458a675",
   "metadata": {},
   "source": [
    "## 06 - Count hashtags"
   ]
  },
  {
   "cell_type": "code",
   "execution_count": null,
   "id": "4f6600e9",
   "metadata": {},
   "outputs": [],
   "source": [
    "# Count number of following(!) Hashtags\n",
    "\n",
    "count_hashtags <- function(liste) {\n",
    "  counter <- 0\n",
    "  b <- list()\n",
    "  listlength <- length(unlist(liste))\n",
    "  if (is.na(liste[1]) == FALSE) {\n",
    "    for (i in 1:listlength) {\n",
    "      if (unlist(liste)[i]) {\n",
    "        if (counter == 0) {\n",
    "          counter <- counter + 1\n",
    "          if (i+1 <= listlength) {\n",
    "            for (j in (i+1):listlength) {\n",
    "              if (unlist(liste)[j]) {\n",
    "                counter <- counter + 1\n",
    "              } else if (unlist(liste)[j] == FALSE) {\n",
    "                break\n",
    "              }\n",
    "            }\n",
    "          }\n",
    "        }\n",
    "      } else {\n",
    "        counter <- 0\n",
    "      }\n",
    "      b <- list.append(b, counter)\n",
    "    }\n",
    "  }\n",
    "  return(b)\n",
    "}\n",
    "\n",
    "posts$NumHashtags <- lapply(posts$Hashtags, count_hashtags)\n",
    "\n",
    "# Count number of all hashtags in a single post\n",
    "\n",
    "count_all_hashtags <- function(liste) {\n",
    "  return(sum(unlist(liste)))\n",
    "}\n",
    "\n",
    "posts$TotalNumHashtags <- lapply(posts$Hashtags, count_all_hashtags)\n",
    "\n",
    "posts$TotalNumHashtags <- unlist(posts$TotalNumHashtags)"
   ]
  },
  {
   "cell_type": "markdown",
   "id": "e3978d9e",
   "metadata": {},
   "source": [
    "## 07 - decide on hashtag deletion"
   ]
  },
  {
   "cell_type": "code",
   "execution_count": null,
   "id": "895e9a39",
   "metadata": {},
   "outputs": [],
   "source": [
    "deletebin <- function(liste) {\n",
    "  output <- unlist(liste) >= 2\n",
    "  return(output)\n",
    "}\n",
    "\n",
    "posts$delete <- lapply(posts$NumHashtags, deletebin)\n",
    "\n",
    "check <- posts[c(6,14,18)]"
   ]
  },
  {
   "cell_type": "markdown",
   "id": "e381f716",
   "metadata": {},
   "source": [
    "### 07.05 - plausability check"
   ]
  },
  {
   "cell_type": "code",
   "execution_count": null,
   "id": "451464b2",
   "metadata": {},
   "outputs": [],
   "source": [
    "posts$html <- ''\n",
    "\n",
    "for (i in 1:dim(posts)[1]) {\n",
    "  text <- ''\n",
    "  text <- paste(text, '<p>')\n",
    "  for (j in 1:length(unlist(posts$Words[i]))) {\n",
    "    if (is.na(unlist(posts$Words[i])[j]) == FALSE) {\n",
    "      if (unlist(posts$delete[i])[j] == TRUE) {\n",
    "        text <- paste(text,'<span class=\"del\">', unlist(posts$Words[i])[j], '</span> ')\n",
    "      } else if (unlist(posts$delete[i])[j] == FALSE) {\n",
    "        text <- paste(text, unlist(posts$Words[i])[j])\n",
    "      }\n",
    "    }\n",
    "  }\n",
    "  text <- paste(text, '</p>')\n",
    "  posts$html[i] <- text\n",
    "}\n",
    "\n",
    "output <- as.data.frame(posts$html)\n",
    "write_csv(output, 'test.html')"
   ]
  },
  {
   "cell_type": "markdown",
   "id": "58fa5455",
   "metadata": {},
   "source": [
    "## 08 - Rebuild Post Texts"
   ]
  },
  {
   "cell_type": "code",
   "execution_count": null,
   "id": "b9bf9ba9",
   "metadata": {},
   "outputs": [],
   "source": [
    "for (i in 1:dim(posts)[1]) {\n",
    "  text <- ''\n",
    "  for (j in 1:length(unlist(posts$Words[i]))) {\n",
    "    if (is.na(unlist(posts$Words[i])[j]) == FALSE) {\n",
    "      if (unlist(posts$delete[i])[j] == FALSE) {\n",
    "        text <- paste(text, unlist(posts$Words[i])[j])\n",
    "      }\n",
    "    }\n",
    "  }\n",
    "  posts$finaltext[i] <- text\n",
    "}"
   ]
  },
  {
   "cell_type": "markdown",
   "id": "8d67f748",
   "metadata": {},
   "source": [
    "## 09 - Export to final dataset file"
   ]
  },
  {
   "cell_type": "code",
   "execution_count": null,
   "id": "07fd13cf",
   "metadata": {},
   "outputs": [],
   "source": [
    "export <- posts\n",
    "export$Text <- export$finaltext\n",
    "export <- select(export, -c(\"Words\", \"Hashtags\", \"NumHashtags\", \"delete\", \"finaltext\"))"
   ]
  },
  {
   "cell_type": "code",
   "execution_count": null,
   "id": "373c327c",
   "metadata": {},
   "outputs": [],
   "source": [
    "write_tsv(export, \"../data/Instagram__Posts_corrected_v5.tsv\", na = \"\")"
   ]
  }
 ],
 "metadata": {
  "kernelspec": {
   "display_name": "R",
   "language": "R",
   "name": "ir"
  },
  "language_info": {
   "codemirror_mode": "r",
   "file_extension": ".r",
   "mimetype": "text/x-r-source",
   "name": "R",
   "pygments_lexer": "r",
   "version": "4.2.3"
  }
 },
 "nbformat": 4,
 "nbformat_minor": 5
}
