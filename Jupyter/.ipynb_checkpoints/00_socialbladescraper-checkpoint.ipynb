{
 "cells": [
  {
   "cell_type": "markdown",
   "id": "6dc72bfa",
   "metadata": {
    "id": "6dc72bfa"
   },
   "source": [
    "_Does size matter? The effect of Instagram influencer account size on post sentiment and resulting marketing outcomes_\n",
    "\n",
    "_Master's thesis by Thomas A. Frost_"
   ]
  },
  {
   "cell_type": "markdown",
   "id": "a326a63e",
   "metadata": {
    "id": "a326a63e"
   },
   "source": [
    "# Part 0: SocialBlade Scraper\n",
    "\n",
    "It is necessary to download the SocialBlade pages as html files and save them in the corresponding folder. The GitHub folder contains a set of downloaded profiles\n",
    "\n",
    "This file serves two puropses:\n",
    "\n",
    "1. Determine suitable accounts for study 2 by manually reviewing all graphs of total media count per user over time (section 5 \"profile selection\")\n",
    "1. Data collection for the study 2 datasets (sections 6-8)\n",
    "\n",
    "For only running step 2 (given that step 1 was executed earlier), uncomment the following line in section 5:\n",
    "\n",
    "```\n",
    "chosen_profiles <- read_csv(\"chosen_profiles.csv\")\n",
    "```\n",
    "\n",
    "and comment out the follwing line in the same section:\n",
    "\n",
    "\n",
    "\n",
    "```\n",
    "write_csv(chosen_profiles, \"chosen_profiles.csv\")\n",
    "```\n",
    "\n",
    "\n"
   ]
  },
  {
   "cell_type": "markdown",
   "id": "f7c4e971",
   "metadata": {
    "id": "f7c4e971"
   },
   "source": [
    "## 02 - Loading"
   ]
  },
  {
   "cell_type": "code",
   "execution_count": null,
   "id": "f4d2d607",
   "metadata": {
    "id": "f4d2d607"
   },
   "outputs": [],
   "source": [
    "library(xml2)\n",
    "library(tidyverse)\n",
    "library(rvest)\n",
    "library(textclean)\n",
    "library(jsonlite)"
   ]
  },
  {
   "cell_type": "markdown",
   "id": "61d21c47",
   "metadata": {
    "id": "61d21c47"
   },
   "source": [
    "## 03 - Functions"
   ]
  },
  {
   "cell_type": "code",
   "execution_count": null,
   "id": "d94d2796",
   "metadata": {
    "id": "d94d2796"
   },
   "outputs": [],
   "source": [
    "getSBFromHTML <- function(file, diagrname) {\n",
    "  # read HTML file\n",
    "  html_read <- read_html(file)\n",
    "\n",
    "  # identify script tags\n",
    "  scripts <- html_elements(x = html_read, css = 'body script')\n",
    "\n",
    "  # identify script tag with Highchart data and replace escaped characters\n",
    "  script <- html_text(scripts[grepl('Highcharts', html_text(scripts))])\n",
    "  script <- replace_white(script)\n",
    "\n",
    "  # identify single diagram definitions\n",
    "  fc_pos <- gregexec('Highcharts\\\\.chart\\\\(.*?\\\\{', script)\n",
    "\n",
    "  start <- as.vector(unlist(fc_pos)) + as.vector(attr(fc_pos[[1]], \"match.length\")) - 1\n",
    "  stop <- as.vector(unlist(fc_pos))[-1] - 4\n",
    "\n",
    "  stop <- append(stop, nchar(script) - 7)\n",
    "\n",
    "  fc_pos <- data.frame(start, stop)\n",
    "\n",
    "  # extract single diagram definitions\n",
    "  function_calls <- substring(\n",
    "    text = script,\n",
    "    first = fc_pos$start,\n",
    "    last = fc_pos$stop\n",
    "  )\n",
    "\n",
    "  # search for diagram names\n",
    "  name_pos <- gregexec(\"Highcharts\\\\.chart\\\\('.*?'\", script)\n",
    "\n",
    "  names <- substring(\n",
    "    text = script,\n",
    "    first = as.vector(unlist(name_pos)) + 18,\n",
    "    last = as.vector(unlist(name_pos)) + as.vector(attr(name_pos[[1]], \"match.length\")) - 2\n",
    "  )\n",
    "\n",
    "  # search for diagram data\n",
    "  data_pos <- gregexec('data: \\\\[\\\\[.*?\\\\]\\\\]', function_calls)\n",
    "\n",
    "  start <- unlist(data_pos)\n",
    "  stop <-  start + as.vector(unlist(lapply(data_pos, function(listitem) {attr(listitem, \"match.length\")})))\n",
    "\n",
    "  data_pos <- data.frame(start = start + 6, stop)\n",
    "\n",
    "  # extract diagram data\n",
    "  data <- substring(\n",
    "    text = function_calls,\n",
    "    first = data_pos$start,\n",
    "    last = data_pos$stop\n",
    "  )\n",
    "\n",
    "  data <- data.frame(data, name = names)\n",
    "\n",
    "  # save diagram data as R data object\n",
    "  return(as.data.frame(fromJSON(\n",
    "    filter(data, name == diagrname)$data\n",
    "  )))\n",
    "}\n",
    "\n",
    "getsize <- function(followers) {\n",
    "  result <- case_when(\n",
    "    (followers <= 1000) ~ NA,\n",
    "    (followers > 1000 && followers <= 10000) ~ \"nano\",\n",
    "    (followers > 10000 && followers <= 50000) ~ \"mikro\",\n",
    "    (followers > 50000 && followers <= 500000) ~ \"midtier\",\n",
    "    (followers > 500000 && followers <= 1000000) ~ \"makro\",\n",
    "    (followers > 1000000) ~ \"mega\"\n",
    "  )\n",
    "  return(result)\n",
    "}\n",
    "\n",
    "\n",
    "# Function to show the graph of number of media items in profile\n",
    "getMediaPlot <- function(user) {\n",
    "  df <- getSBFromHTML(paste('socialblade_data/', user, '.htm', sep = \"\"), 'graph-instagram-monthly-media-container')\n",
    "  df$V1 <- as.Date(as.POSIXct(df$V1 / 1000, origin=\"1970-01-01\"))\n",
    "\n",
    "  plot <- ggplot(data = df, aes(x = V1, y = V2)) +\n",
    "    geom_point() +\n",
    "    geom_line() +\n",
    "    ylab(\"Number of posts online\") +\n",
    "    xlab(\"Date\") +\n",
    "    ggtitle(paste(\"graph for user\", user)) +\n",
    "    theme_light()\n",
    "\n",
    "  plot\n",
    "}\n",
    "\n",
    "\n",
    "# Function to return followers of a specific user\n",
    "getFollowers <- function(user) {\n",
    "  df <- getSBFromHTML(paste('socialblade_data/', user, '.htm', sep = \"\"), 'graph-instagram-monthly-followers-container')\n",
    "  df$V1 <- as.Date(as.POSIXct(df$V1 / 1000, origin=\"1970-01-01\"))\n",
    "  df$size <- sapply(df$V2, getsize)\n",
    "  df$Username <- user\n",
    "  return(df)\n",
    "}\n",
    "\n",
    "# Function to return followees of a specific user\n",
    "getFollowees <- function(user) {\n",
    "  df <- getSBFromHTML(paste('socialblade_data/', user, '.htm', sep = \"\"), 'graph-instagram-monthly-following-container')\n",
    "  df$V1 <- as.Date(as.POSIXct(df$V1 / 1000, origin=\"1970-01-01\"))\n",
    "  df$Username <- user\n",
    "  return(df)\n",
    "}\n",
    "\n",
    "# Function to return followees of a specific user\n",
    "getMediaCount <- function(user) {\n",
    "  df <- getSBFromHTML(paste('socialblade_data/', user, '.htm', sep = \"\"), 'graph-instagram-monthly-media-container')\n",
    "  df$V1 <- as.Date(as.POSIXct(df$V1 / 1000, origin=\"1970-01-01\"))\n",
    "  df$Username <- user\n",
    "  return(df)\n",
    "}"
   ]
  },
  {
   "cell_type": "markdown",
   "id": "c64f5944",
   "metadata": {
    "id": "c64f5944"
   },
   "source": [
    "## 04 - Import\n"
   ]
  },
  {
   "cell_type": "code",
   "execution_count": null,
   "id": "14a15607",
   "metadata": {
    "id": "14a15607"
   },
   "outputs": [],
   "source": [
    "profiles <- read_csv2(\"data/profiles_gender.csv\", col_types = \"cnfllnff\")"
   ]
  },
  {
   "cell_type": "markdown",
   "id": "CHVPrGPK1-7x",
   "metadata": {
    "id": "CHVPrGPK1-7x"
   },
   "source": [
    "## 05 - Profile Selection"
   ]
  },
  {
   "cell_type": "code",
   "execution_count": null,
   "id": "LsHjkx572Cm9",
   "metadata": {
    "id": "LsHjkx572Cm9"
   },
   "outputs": [],
   "source": [
    "chosen_profiles <- data.frame(Username = c(\"\"))\n",
    "# chosen_profiles <- read_csv(\"chosen_profiles.csv\")\n",
    "\n",
    "i <- 1\n",
    "\n",
    "getMediaPlot(filter(profiles, size_new == \"makro\")$Username[i])\n",
    "\n",
    "chosen_profiles <- rbind(chosen_profiles, data.frame(Username = c(filter(profiles, size_new == \"makro\")$Username[i]), size = c(\"makro\")))\n",
    "\n",
    "i <- i+1\n",
    "\n",
    "write_csv(chosen_profiles, \"chosen_profiles.csv\")"
   ]
  },
  {
   "cell_type": "markdown",
   "id": "_l7u5NpW24pB",
   "metadata": {
    "id": "_l7u5NpW24pB"
   },
   "source": [
    "## 06 - Follower Data Collection"
   ]
  },
  {
   "cell_type": "code",
   "execution_count": null,
   "id": "gmggSNzY28Q8",
   "metadata": {
    "id": "gmggSNzY28Q8"
   },
   "outputs": [],
   "source": [
    "followers <- as.data.frame(sapply(chosen_profiles$Username, getFollowers))\n",
    "followers <- as.data.frame(t(followers))\n",
    "followers <- data.frame(date = as.Date(unlist(followers$V1), origin = \"1970-01-01\"), followers = unlist(followers$V2), size = unlist(followers$size), username = unlist(followers$Username))\n",
    "\n",
    "rownames(followers) <- 1:dim(followers)[1]\n",
    "\n",
    "followers$month <- month(followers$date)\n",
    "followers$year <- year(followers$date)\n",
    "\n",
    "\n",
    "# Find out which data point is the earliest per user\n",
    "\n",
    "minim <- as.data.frame(tapply(followers$year, followers$username, min))\n",
    "minim$user <- rownames(minim)\n",
    "\n",
    "minim$month <- apply(minim, MARGIN = 1, FUN = function(df, followers) {\n",
    "  return(min(filter(followers, username == df[2], year == df[1])$month))\n",
    "}, followers)\n",
    "\n",
    "colnames(minim) <- c(\"year\", \"username\", \"month\")\n",
    "\n",
    "followers_19plus <- filter(followers, username %in%\n",
    "                             filter(minim, (year < 2019 | (year == 2019 & month == 1)))$username\n",
    "                           )\n",
    "followers_19plus <- filter(followers_19plus, (year >= 2019 & year < 2023))\n",
    "\n",
    "write_csv(followers_19plus, \"followers_hist.csv\")"
   ]
  },
  {
   "cell_type": "markdown",
   "id": "p9WNAT-w29CH",
   "metadata": {
    "id": "p9WNAT-w29CH"
   },
   "source": [
    "## 07 - Followee Data Collectin"
   ]
  },
  {
   "cell_type": "code",
   "execution_count": null,
   "id": "hy8zD8jl3CGI",
   "metadata": {
    "id": "hy8zD8jl3CGI"
   },
   "outputs": [],
   "source": [
    "followees <- as.data.frame(sapply(chosen_profiles$Username, getFollowees))\n",
    "followees <- as.data.frame(t(followees))\n",
    "followees <- data.frame(date = as.Date(unlist(followees$V1), origin = \"1970-01-01\"), followees = unlist(followees$V2), username = unlist(followees$Username))\n",
    "\n",
    "rownames(followees) <- 1:dim(followees)[1]\n",
    "\n",
    "followees$month <- month(followees$date)\n",
    "followees$year <- year(followees$date)\n",
    "\n",
    "\n",
    "# Find out which data point is the earliest per user\n",
    "\n",
    "minim <- as.data.frame(tapply(followees$year, followees$username, min))\n",
    "minim$user <- rownames(minim)\n",
    "\n",
    "minim$month <- apply(minim, MARGIN = 1, FUN = function(df, followees) {\n",
    "  return(min(filter(followees, username == df[2], year == df[1])$month))\n",
    "}, followees)\n",
    "\n",
    "colnames(minim) <- c(\"year\", \"username\", \"month\")\n",
    "\n",
    "followees_19plus <- filter(followees, username %in%\n",
    "                             filter(minim, (year < 2019 | (year == 2019 & month == 1)))$username\n",
    ")\n",
    "followees_19plus <- filter(followees_19plus, (year >= 2019 & year < 2023))\n",
    "\n",
    "write_csv(followees_19plus, \"followees_hist.csv\")"
   ]
  },
  {
   "cell_type": "markdown",
   "id": "Zc4TGRXk3C0B",
   "metadata": {
    "id": "Zc4TGRXk3C0B"
   },
   "source": [
    "## 08 - Media Count Collection"
   ]
  },
  {
   "cell_type": "code",
   "execution_count": null,
   "id": "OmgdQNIm3F-E",
   "metadata": {
    "id": "OmgdQNIm3F-E"
   },
   "outputs": [],
   "source": [
    "mediacount <- as.data.frame(sapply(chosen_profiles$Username, getMediaCount))\n",
    "mediacount <- as.data.frame(t(mediacount))\n",
    "mediacount <- data.frame(date = as.Date(unlist(mediacount$V1), origin = \"1970-01-01\"), mediacount = unlist(mediacount$V2), username = unlist(mediacount$Username))\n",
    "\n",
    "rownames(mediacount) <- 1:dim(mediacount)[1]\n",
    "\n",
    "mediacount$month <- month(mediacount$date)\n",
    "mediacount$year <- year(mediacount$date)\n",
    "\n",
    "\n",
    "# Find out which data point is the earliest per user\n",
    "\n",
    "minim <- as.data.frame(tapply(mediacount$year, mediacount$username, min))\n",
    "minim$user <- rownames(minim)\n",
    "\n",
    "minim$month <- apply(minim, MARGIN = 1, FUN = function(df, mediacount) {\n",
    "  return(min(filter(mediacount, username == df[2], year == df[1])$month))\n",
    "}, mediacount)\n",
    "\n",
    "colnames(minim) <- c(\"year\", \"username\", \"month\")\n",
    "\n",
    "mediacount_19plus <- filter(mediacount, username %in%\n",
    "                             filter(minim, (year < 2019 | (year == 2019 & month == 1)))$username\n",
    ")\n",
    "mediacount_19plus <- filter(mediacount_19plus, (year >= 2019 & year < 2023))\n",
    "\n",
    "write_csv(mediacount_19plus, \"mediacount_hist.csv\")"
   ]
  }
 ],
 "metadata": {
  "colab": {
   "provenance": []
  },
  "kernelspec": {
   "display_name": "R",
   "language": "R",
   "name": "ir"
  },
  "language_info": {
   "codemirror_mode": "r",
   "file_extension": ".r",
   "mimetype": "text/x-r-source",
   "name": "R",
   "pygments_lexer": "r",
   "version": "4.2.3"
  }
 },
 "nbformat": 4,
 "nbformat_minor": 5
}
