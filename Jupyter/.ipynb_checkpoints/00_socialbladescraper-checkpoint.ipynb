{
 "cells": [
  {
   "cell_type": "markdown",
   "id": "6dc72bfa",
   "metadata": {},
   "source": [
    "_Does size matter? The effect of Instagram influencer account size on post sentiment and resulting marketing outcomes_\n",
    "\n",
    "_Master's thesis by Thomas A. Frost_"
   ]
  },
  {
   "cell_type": "markdown",
   "id": "a326a63e",
   "metadata": {},
   "source": [
    "# Part 0: SocialBlade Scraper\n",
    "\n",
    "It is necessary to download the SocialBlade pages as html files and save them in the corresponding folder"
   ]
  },
  {
   "cell_type": "markdown",
   "id": "3271370c",
   "metadata": {},
   "source": [
    "## Library Installs"
   ]
  },
  {
   "cell_type": "code",
   "execution_count": null,
   "id": "84a0818a",
   "metadata": {},
   "outputs": [],
   "source": []
  },
  {
   "cell_type": "markdown",
   "id": "f7c4e971",
   "metadata": {},
   "source": [
    "## Loading"
   ]
  },
  {
   "cell_type": "code",
   "execution_count": null,
   "id": "f4d2d607",
   "metadata": {},
   "outputs": [],
   "source": []
  },
  {
   "cell_type": "markdown",
   "id": "61d21c47",
   "metadata": {},
   "source": [
    "## Functions"
   ]
  },
  {
   "cell_type": "code",
   "execution_count": null,
   "id": "d94d2796",
   "metadata": {},
   "outputs": [],
   "source": []
  },
  {
   "cell_type": "markdown",
   "id": "c64f5944",
   "metadata": {},
   "source": [
    "## Here comes the code...\n"
   ]
  },
  {
   "cell_type": "code",
   "execution_count": null,
   "id": "14a15607",
   "metadata": {},
   "outputs": [],
   "source": []
  }
 ],
 "metadata": {
  "kernelspec": {
   "display_name": "R",
   "language": "R",
   "name": "ir"
  },
  "language_info": {
   "codemirror_mode": "r",
   "file_extension": ".r",
   "mimetype": "text/x-r-source",
   "name": "R",
   "pygments_lexer": "r",
   "version": "4.2.3"
  }
 },
 "nbformat": 4,
 "nbformat_minor": 5
}
