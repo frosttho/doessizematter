{
 "cells": [
  {
   "cell_type": "markdown",
   "id": "58a16175",
   "metadata": {},
   "source": [
    "_Does size matter? The effect of Instagram influencer account size on post sentiment and resulting marketing outcomes_\n",
    "\n",
    "_Master's thesis by Thomas A. Frost_"
   ]
  },
  {
   "cell_type": "markdown",
   "id": "aa23343b",
   "metadata": {},
   "source": [
    "# Part 0b: List Cleaning\n",
    "\n",
    "This file does the pre-selection of the Instagram accounts as drecribed in the thesis. Input is the exported csv from CreatorIQ / AInfluencer"
   ]
  },
  {
   "cell_type": "markdown",
   "id": "915bd4a7",
   "metadata": {},
   "source": [
    "## 02 - Loading"
   ]
  },
  {
   "cell_type": "code",
   "execution_count": null,
   "id": "e13187a0",
   "metadata": {},
   "outputs": [],
   "source": [
    "library(tidyverse)\n",
    "library(colorspace)\n",
    "\n",
    "set.seed(4120)\n",
    "sequential_hcl(n = 7, h = 245, c = c(50, 75, NA), l = c(33, 84), power = 0.95, register = \"thomascolor\")"
   ]
  },
  {
   "cell_type": "markdown",
   "id": "971bb052",
   "metadata": {},
   "source": [
    "## 03 - Import"
   ]
  },
  {
   "cell_type": "code",
   "execution_count": null,
   "id": "c77e71bf",
   "metadata": {},
   "outputs": [],
   "source": [
    "nano <- read_csv('../data/nano-full.csv')\n",
    "nano2 <- read_csv2('../data/ainfluencer_nano_after.csv')\n",
    "mikro <- read_csv('../data/mikro-full.csv')\n",
    "midtier <- read_csv('../data/midtier-full.csv')\n",
    "makro <- read_csv('../data/makro-full.csv')\n",
    "mega <- read_csv('../data/mega-full.csv')"
   ]
  },
  {
   "cell_type": "markdown",
   "id": "c1eca277",
   "metadata": {},
   "source": [
    "### 03.01 - Data Cleaning"
   ]
  },
  {
   "cell_type": "code",
   "execution_count": null,
   "id": "dda7b489",
   "metadata": {},
   "outputs": [],
   "source": [
    "colnames(nano) <- make.names(colnames(nano))\n",
    "colnames(mikro) <- make.names(colnames(mikro))\n",
    "colnames(midtier) <- make.names(colnames(midtier))\n",
    "colnames(makro) <- make.names(colnames(makro))\n",
    "colnames(mega) <- make.names(colnames(mega))\n",
    "\n",
    "nano$FlagshipSocialNetwork <- as.factor(nano$FlagshipSocialNetwork)\n",
    "mikro$FlagshipSocialNetwork <- as.factor(mikro$FlagshipSocialNetwork)\n",
    "midtier$FlagshipSocialNetwork <- as.factor(midtier$FlagshipSocialNetwork)\n",
    "makro$FlagshipSocialNetwork <- as.factor(makro$FlagshipSocialNetwork)\n",
    "mega$FlagshipSocialNetwork <- as.factor(mega$FlagshipSocialNetwork)"
   ]
  },
  {
   "cell_type": "markdown",
   "id": "7b250703",
   "metadata": {},
   "source": [
    "## 04 - Filtering"
   ]
  },
  {
   "cell_type": "code",
   "execution_count": null,
   "id": "a2f46fe2",
   "metadata": {},
   "outputs": [],
   "source": [
    "nano <- filter(nano,\n",
    "               FlagshipSocialNetwork == 'instagram',\n",
    "               Instagram.Followers <= 10000,\n",
    "               IG_Total_Posts >= 20)\n",
    "\n",
    "nano2 <- filter(nano2,\n",
    "                yes_no == 'y')\n",
    "nano2 <- select(nano2, -yes_no)\n",
    "nano <- rbind(nano, nano2)\n",
    "\n",
    "mikro <- filter(mikro,\n",
    "               FlagshipSocialNetwork == 'instagram',\n",
    "               Instagram.Followers > 10000 & Instagram.Followers <= 50000,\n",
    "               IG_Total_Posts >= 20)\n",
    "\n",
    "midtier <- filter(midtier,\n",
    "                FlagshipSocialNetwork == 'instagram',\n",
    "                Instagram.Followers > 50000 & Instagram.Followers <= 500000,\n",
    "                IG_Total_Posts >= 20)\n",
    "\n",
    "makro <- filter(makro,\n",
    "                FlagshipSocialNetwork == 'instagram',\n",
    "                Instagram.Followers > 100000 & Instagram.Followers <= 1000000,\n",
    "                IG_Total_Posts >= 20)\n",
    "\n",
    "# Limit of 4,000,000 followers to reduce outliers and extreme cases\n",
    "mega <- filter(mega,\n",
    "                FlagshipSocialNetwork == 'instagram',\n",
    "               Instagram.Followers > 1000000 & Instagram.Followers <= 4000000,\n",
    "                IG_Total_Posts >= 20)"
   ]
  },
  {
   "cell_type": "markdown",
   "id": "3799c9fa",
   "metadata": {},
   "source": [
    "## 05 - Equal distribution inside size classes\n",
    "\n",
    "### 05.01 - Function"
   ]
  },
  {
   "cell_type": "code",
   "execution_count": null,
   "id": "44e72292",
   "metadata": {},
   "outputs": [],
   "source": [
    "newvar <- function(df, min, max) {\n",
    "  int <- (max - min)/5\n",
    "  df$subclass <- ((df$Instagram.Followers - min) %/% int) + 1\n",
    "  \n",
    "  df$subclass <- as.factor(df$subclass)\n",
    "  \n",
    "  return(df)\n",
    "}"
   ]
  },
  {
   "cell_type": "markdown",
   "id": "af04a968",
   "metadata": {},
   "source": [
    "### 05.02 - Application"
   ]
  },
  {
   "cell_type": "code",
   "execution_count": null,
   "id": "647d75c6",
   "metadata": {},
   "outputs": [],
   "source": [
    "nano <- newvar(nano, 1000, 10000)\n",
    "mikro <- newvar(mikro, 10000, 50000)\n",
    "midtier <- newvar(midtier, 50000, 500000)\n",
    "makro <- newvar(makro, 500000, 1000000)\n",
    "mega <- newvar(mega, 1000000, 4000000)"
   ]
  },
  {
   "cell_type": "markdown",
   "id": "008db41c",
   "metadata": {},
   "source": [
    "## 06 - Descriptive Visualizations\n",
    "\n",
    "### 06.01 - Boxplot"
   ]
  },
  {
   "cell_type": "code",
   "execution_count": null,
   "id": "d7bad5b5",
   "metadata": {},
   "outputs": [],
   "source": [
    "#mega_box <- ggplot(mega, aes(y = `Instagram Followers`)) + geom_boxplot()\n",
    "#mega_box"
   ]
  },
  {
   "cell_type": "markdown",
   "id": "16eae147",
   "metadata": {},
   "source": [
    "### 06.02. - Bar Charts\n",
    "\n",
    "The bar charts show the distribution inside the five size classes"
   ]
  },
  {
   "cell_type": "code",
   "execution_count": null,
   "id": "824fe28b",
   "metadata": {},
   "outputs": [],
   "source": [
    "nano_bar <- ggplot(nano, aes(y = subclass)) + geom_bar()\n",
    "nano_bar\n",
    "\n",
    "mikro_bar <- ggplot(mikro, aes(y = subclass)) + geom_bar()\n",
    "mikro_bar\n",
    "\n",
    "midtier_bar <- ggplot(midtier, aes(y = subclass)) + geom_bar()\n",
    "midtier_bar\n",
    "\n",
    "makro_bar <- ggplot(makro, aes(y = subclass)) + geom_bar()\n",
    "makro_bar\n",
    "\n",
    "mega_bar <- ggplot(mega, aes(y = subclass)) + geom_bar()\n",
    "mega_bar"
   ]
  },
  {
   "cell_type": "markdown",
   "id": "83dabb29",
   "metadata": {},
   "source": [
    "## 07 - Create equal distribution in size classes"
   ]
  },
  {
   "cell_type": "code",
   "execution_count": null,
   "id": "399b6314",
   "metadata": {},
   "outputs": [],
   "source": [
    "randsel <- function(df, min, max, n) {\n",
    "  resultdf <- data.frame(\n",
    "    FlagshipSocialNetwork = factor(),\n",
    "    IN_NumOfAccounts = numeric(),\n",
    "    Instagram.URL = character(),\n",
    "    Instagram.Followers = numeric(),\n",
    "    IG_Total_Posts = numeric(),\n",
    "    subclass = factor())\n",
    "  \n",
    "  dist <- as.data.frame(table(df$subclass))\n",
    "  \n",
    "  if (min(dist$Freq >= 20)) {\n",
    "    for (j in 1:5) {\n",
    "      tempdf <- filter(df, subclass == j)\n",
    "      #print(as.data.frame(slice_sample(tempdf, n = n/5)))\n",
    "      resultdf <- rbind(resultdf, as.data.frame(slice_sample(tempdf, n = n/5)))\n",
    "    }\n",
    "    \n",
    "  } else {\n",
    "    m <- 5\n",
    "    interval <- n/m\n",
    "    for (i in order(dist$Freq)) {\n",
    "      if (nrow(filter(df, subclass == i)) <= interval) {\n",
    "        resultdf <- rbind(resultdf, filter(df, subclass == i))\n",
    "        n <- n - nrow(filter(df, subclass == i))\n",
    "        m <- m - 1\n",
    "        interval <- ceiling(n/m)\n",
    "      } else {\n",
    "        tempdf <- filter(df, subclass == i)\n",
    "        resultdf <- rbind(resultdf, as.data.frame(slice_sample(tempdf, n = interval)))\n",
    "      }\n",
    "    }\n",
    "  }\n",
    "  \n",
    "  return(resultdf)\n",
    "}\n",
    "\n",
    "nanosel <- randsel(nano, 1000, 10000, 100)\n",
    "mikrosel <- randsel(mikro, 1000, 10000, 100)\n",
    "midtiersel <- randsel(midtier, 1000, 10000, 100)\n",
    "makrosel <- randsel(makro, 1000, 10000, 100)\n",
    "megasel <- randsel(mega, 1000, 10000, 100)"
   ]
  },
  {
   "cell_type": "markdown",
   "id": "c236ce4f",
   "metadata": {},
   "source": [
    "## 08 - create full list"
   ]
  },
  {
   "cell_type": "code",
   "execution_count": null,
   "id": "2241f5c0",
   "metadata": {},
   "outputs": [],
   "source": [
    "nanosel$size <- 'nano'\n",
    "mikrosel$size <- 'mikro'\n",
    "midtiersel$size <- 'midtier'\n",
    "makrosel$size <- 'makro'\n",
    "megasel$size <- 'mega'\n",
    "\n",
    "fulldf <- rbind(nanosel, mikrosel, midtiersel, makrosel, megasel)\n",
    "fulldf <- filter(fulldf, Instagram.URL != '')\n",
    "fulldf$Instagram.Account <- str_remove(fulldf$Instagram.URL, 'https://instagram.com/')\n",
    "fulldf$Instagram.Account <- str_remove(fulldf$Instagram.Account, 'http://www.instagram.com/')\n",
    "\n",
    "fulldfo <- fulldf[order(fulldf$Instagram.Followers), ]\n",
    "\n",
    "nmm <- filter(fulldfo, size == 'nano' | size == 'mikro')\n",
    "nmmdist <- ggplot(nmm, aes( x = 1:length(Instagram.Followers), y = Instagram.Followers, fill = size)) +\n",
    "  geom_col() +\n",
    "  xlab('account') +\n",
    "  ylab('Followers of respectve account in Million')\n",
    "\n",
    "nmmdist\n",
    "\n",
    "fulldfo$size[fulldfo$size == \"mikro\"] <- \"micro\"\n",
    "fulldfo$size[fulldfo$size == \"makro\"] <- \"macro\"\n",
    "\n",
    "fulldfo$size <- factor(fulldfo$size, ordered = TRUE, levels = c(\"nano\", \"micro\", \"midtier\", \"macro\", \"mega\"))\n",
    "\n",
    "fulldist <- ggplot(fulldfo, aes(x = 1:length(Instagram.Followers), y = Instagram.Followers , fill = size)) +\n",
    "  geom_col() +\n",
    "  xlab('account') +\n",
    "  ylab('Followers of respective account, log_10-scaled') +\n",
    "  scale_y_log10() +\n",
    "  theme_light() +\n",
    "  scale_fill_discrete_sequential(palette = \"thomascolor\")\n",
    "\n",
    "\n",
    "fulldist\n",
    "\n",
    "fulldfexport <- select(fulldf, Instagram.URL, Instagram.Account, Instagram.Followers, size)"
   ]
  },
  {
   "cell_type": "code",
   "execution_count": null,
   "id": "4680e9fb",
   "metadata": {},
   "outputs": [],
   "source": [
    "write_csv(fulldfexport, '../data/fulldf-export.csv')"
   ]
  }
 ],
 "metadata": {
  "kernelspec": {
   "display_name": "R",
   "language": "R",
   "name": "ir"
  },
  "language_info": {
   "codemirror_mode": "r",
   "file_extension": ".r",
   "mimetype": "text/x-r-source",
   "name": "R",
   "pygments_lexer": "r",
   "version": "4.2.3"
  }
 },
 "nbformat": 4,
 "nbformat_minor": 5
}
