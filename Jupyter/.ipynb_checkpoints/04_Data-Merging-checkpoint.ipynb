{
 "cells": [
  {
   "cell_type": "markdown",
   "id": "21aa8621",
   "metadata": {},
   "source": [
    "_Does size matter? The effect of Instagram influencer account size on post sentiment and resulting marketing outcomes_\n",
    "\n",
    "_Master's thesis by Thomas A. Frost_"
   ]
  },
  {
   "cell_type": "markdown",
   "id": "3b96842b",
   "metadata": {},
   "source": [
    "# Part 4: Data Merging\n",
    "\n",
    "This file reunites the scraped data with the output of the SiEBERT sentiment analysis and adds additional variables"
   ]
  },
  {
   "cell_type": "markdown",
   "id": "bf2277cb",
   "metadata": {},
   "source": [
    "## 02 - Setup"
   ]
  },
  {
   "cell_type": "code",
   "execution_count": null,
   "id": "e1c03e54",
   "metadata": {},
   "outputs": [],
   "source": [
    "library(tidyverse)"
   ]
  },
  {
   "cell_type": "markdown",
   "id": "62c52647",
   "metadata": {},
   "source": [
    "## 03 - Data Import"
   ]
  },
  {
   "cell_type": "code",
   "execution_count": null,
   "id": "4ec1409c",
   "metadata": {},
   "outputs": [],
   "source": [
    "posts <- read_csv(\"../data/processed-dataset.csv\", col_types = \"nccnccnc\")\n",
    "posts_preproc <- read_tsv(\"../data/Instagram__Posts_corrected_v5.tsv\", col_types = \"ccncccnncccfcn\")\n",
    "results <- read_csv(\"../data/predicted-full.csv\")\n",
    "profiles <- read_csv(\"../data/profiles_v2.csv\")\n",
    "profile_gender <- read_csv2(\"../data/profiles_gender.csv\")\n",
    "\n",
    "all.equal(posts$Text, results$text)   # Check for equality of post captions\n",
    "\n",
    "results$text <- gsub(\"\\\\n\", ' ', results$text)        # Remove line breaks\n",
    "results$text <- gsub(\"^\\\\.+$\", '', results$text)      # remove all captions that only contain dots as the language identifier reads them as file paths ~tf\n",
    "\n",
    "posts$Text <- gsub(\"\\\\n\", ' ', posts$Text)        # Remove line breaks\n",
    "posts$Text <- gsub(\"^\\\\.+$\", '', posts$Text)      # Exclude all Texts that only contain dots as the language identifier reads them as file paths ~tf\n"
   ]
  },
  {
   "cell_type": "markdown",
   "id": "e240c62e",
   "metadata": {},
   "source": [
    "## 04 - Merging\n"
   ]
  },
  {
   "cell_type": "code",
   "execution_count": null,
   "id": "10d94af1",
   "metadata": {},
   "outputs": [],
   "source": [
    "finaldataset <- cbind(posts, results$label, results$score)\n",
    "colnames(finaldataset)[2] <- \"Username\"\n",
    "\n",
    "finaldataset <- merge(finaldataset, profiles, all.x = TRUE, sort = FALSE)\n",
    "finaldataset <- merge(finaldataset, data.frame(Username = profile_gender$Username, gender = profile_gender$gender), by = \"Username\", all.x = TRUE, sort = FALSE)\n",
    "\n",
    "finaldataset$gender <- as.factor(finaldataset$gender)\n",
    "\n",
    "# doppelte Posts löschen\n",
    "duplicates <- as.data.frame(1:length(as.vector(duplicated(posts_preproc$`Post ID`)))*as.vector(duplicated(posts_preproc$`Post ID`)))\n",
    "colnames(duplicates) <- (\"row\")\n",
    "duplicates <- as.vector(filter(duplicates, row != 0))\n",
    "\n",
    "posts_preproc <- posts_preproc[-unlist(duplicates),]\n",
    "\n",
    "finaldataset <- merge(finaldataset, data.frame(Post.ID = posts_preproc$`Post ID`, TotalNumHashtags = posts_preproc$TotalNumHashtags), all.x = TRUE, sort = FALSE, by.x = \"Post ID\", by.y = \"Post.ID\")"
   ]
  },
  {
   "cell_type": "markdown",
   "id": "c2a10045",
   "metadata": {},
   "source": [
    "## 05 - Delete further nonsense"
   ]
  },
  {
   "cell_type": "code",
   "execution_count": null,
   "id": "1b4072ac",
   "metadata": {},
   "outputs": [],
   "source": [
    "finaldataset <- filter(finaldataset, is.na(finaldataset$Text) == FALSE) # empty because it contained only emojis\n",
    "finaldataset <- finaldataset[-c(3,13)]"
   ]
  },
  {
   "cell_type": "markdown",
   "id": "a0f174fd",
   "metadata": {},
   "source": [
    "### 05.1 - new Variable NumOfMentions"
   ]
  },
  {
   "cell_type": "code",
   "execution_count": null,
   "id": "987ed48f",
   "metadata": {},
   "outputs": [],
   "source": [
    "finaldataset$Words <- strsplit(finaldataset$Text, \" \")\n",
    "\n",
    "countmentions <- function(liste) {\n",
    "  i <- 0\n",
    "  if(length(unlist(liste)) != 0) {\n",
    "    for (j in 1:length(liste)) {\n",
    "      if(substring(liste[j], 1, 1) == \"@\") {\n",
    "        i <- i + 1\n",
    "      }\n",
    "    }\n",
    "  } else {\n",
    "    i <- 0\n",
    "  }\n",
    "  return(i)\n",
    "}\n",
    "\n",
    "finaldataset$TotalNumMentions <- sapply(finaldataset$Words, countmentions)\n",
    "\n",
    "\n",
    "# delete captions that only contain hashtags or mentions\n",
    "hashtag_mention_detection <- function(strng) {\n",
    "  hashtag <- substring(strng, 1, 1) == \"#\"\n",
    "  mention <- substring(strng, 1, 1) == \"@\"\n",
    "  return(hashtag | mention)\n",
    "}\n",
    "\n",
    "finaldataset$refs <- lapply(finaldataset$Words, hashtag_mention_detection)\n",
    "\n",
    "onlyrefs <- function(wordlist) {\n",
    "  return(all(unlist(wordlist)))\n",
    "}\n",
    "\n",
    "finaldataset$onlyrefs <- sapply(finaldataset$refs, onlyrefs)\n",
    "\n",
    "finaldataset <- filter(finaldataset, onlyrefs == FALSE)\n",
    "\n",
    "finaldataset <- finaldataset[-c(27,29,30)]\n",
    "\n",
    "colnames(finaldataset) <- c(\"Post.ID\", \"Username\", \"Comments\", \"Title\", \"Text\", \"Likes\", \"Product.Type\", \"sentiment.label\", \"sentiment.score\", \"followers.old\", \"size.old\", \"User.ID\", \"is.private\", \"mediacount\", \"followers.new\", \"followees\", \"external_url\", \"is.business\", \"business.category\", \"biography\", \"fullname\", \"is.verified\", \"profilepic\", \"size.new\", \"gender\", \"TotalNumHashtags\", \"TotalNumMentions\")"
   ]
  },
  {
   "cell_type": "code",
   "execution_count": null,
   "id": "156c41b0",
   "metadata": {},
   "outputs": [],
   "source": [
    "write_csv(finaldataset, \"../data/finaldataset_v2.csv\")"
   ]
  },
  {
   "cell_type": "markdown",
   "id": "2cfa30f1",
   "metadata": {},
   "source": [
    "## 05 - Adding Topics\n",
    "\n",
    "This is done in 05_LanguageDetection.R"
   ]
  }
 ],
 "metadata": {
  "kernelspec": {
   "display_name": "R",
   "language": "R",
   "name": "ir"
  },
  "language_info": {
   "codemirror_mode": "r",
   "file_extension": ".r",
   "mimetype": "text/x-r-source",
   "name": "R",
   "pygments_lexer": "r",
   "version": "4.2.3"
  }
 },
 "nbformat": 4,
 "nbformat_minor": 5
}
