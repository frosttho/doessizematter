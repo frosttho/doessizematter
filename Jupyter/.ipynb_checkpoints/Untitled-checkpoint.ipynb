{
 "cells": [
  {
   "cell_type": "markdown",
   "id": "cb1952d6",
   "metadata": {},
   "source": [
    "_Does size matter? The effect of Instagram influencer account size on post sentiment and resulting marketing outcomes_\n",
    "\n",
    "_Master's thesis by Thomas A. Frost_"
   ]
  },
  {
   "cell_type": "markdown",
   "id": "9ac5f67c",
   "metadata": {},
   "source": [
    "# Part 3: SiEBERT\n",
    "\n"
   ]
  }
 ],
 "metadata": {
  "kernelspec": {
   "display_name": "Python 3 (ipykernel)",
   "language": "python",
   "name": "python3"
  },
  "language_info": {
   "codemirror_mode": {
    "name": "ipython",
    "version": 3
   },
   "file_extension": ".py",
   "mimetype": "text/x-python",
   "name": "python",
   "nbconvert_exporter": "python",
   "pygments_lexer": "ipython3",
   "version": "3.9.13"
  }
 },
 "nbformat": 4,
 "nbformat_minor": 5
}
