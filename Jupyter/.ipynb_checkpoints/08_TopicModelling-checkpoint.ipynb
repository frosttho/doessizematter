{
 "cells": [
  {
   "cell_type": "markdown",
   "id": "21aa8621",
   "metadata": {},
   "source": [
    "_Does size matter? The effect of Instagram influencer account size on post sentiment and resulting marketing outcomes_\n",
    "\n",
    "_Master's thesis by Thomas A. Frost_"
   ]
  },
  {
   "cell_type": "markdown",
   "id": "3b96842b",
   "metadata": {},
   "source": [
    "# Part 8: Topic Modeling\n",
    "\n",
    "This file executes the LDA Topic Modelling. Every step is executed twice for account level and post level."
   ]
  },
  {
   "cell_type": "markdown",
   "id": "09e3ddba",
   "metadata": {},
   "source": [
    "## 02 - Setup"
   ]
  },
  {
   "cell_type": "code",
   "execution_count": null,
   "id": "5207a8e0",
   "metadata": {},
   "outputs": [],
   "source": [
    "set.seed(123)\n",
    "\n",
    "library(tidyverse)\n",
    "library(readxl)\n",
    "library(quanteda)\n",
    "library(ldaPrototype)\n",
    "library(Twitmo)\n",
    "library(textmineR)\n",
    "library(LDAvis)\n",
    "library(Matrix)\n",
    "library(slam)"
   ]
  },
  {
   "cell_type": "markdown",
   "id": "bf2277cb",
   "metadata": {},
   "source": [
    "## 03 - Data Import"
   ]
  },
  {
   "cell_type": "code",
   "execution_count": null,
   "id": "e1c03e54",
   "metadata": {},
   "outputs": [],
   "source": [
    "posts <- read_delim(\"../data/Instagram__Posts_corrected.tsv\", delim = \"\\t\", quote=\"\", col_types = \"ccnTccnnccccc\")\n",
    "posts <- select(posts, c(\"Username (shortcode)\", \"Post ID\", \"Text\"))\n",
    "lemma <- read.delim(\"../lemmatization-en.txt\", sep = \"\\t\")\n",
    "\n",
    "posts <- posts[-which(duplicated(posts$`Post ID`)),]                 # remove duplicates\n",
    "posts$Text <- gsub(\"\\\\\\\\n\", ' ', posts$Text)                           # replace \\n with space"
   ]
  },
  {
   "cell_type": "markdown",
   "id": "62c52647",
   "metadata": {},
   "source": [
    "## 04 - Preprocessing\n",
    "\n",
    "### 04.01 Tokenization"
   ]
  },
  {
   "cell_type": "code",
   "execution_count": null,
   "id": "4ec1409c",
   "metadata": {},
   "outputs": [],
   "source": [
    "posttexts <- as.vector(posts$Text)\n",
    "posttexts <- setNames(posttexts, posts$`Post ID`)\n",
    "\n",
    "tok <- tokens(posttexts, split_tags = TRUE)"
   ]
  },
  {
   "cell_type": "markdown",
   "id": "e240c62e",
   "metadata": {},
   "source": [
    "### 04.02 Convert to lowercase\n"
   ]
  },
  {
   "cell_type": "code",
   "execution_count": null,
   "id": "10d94af1",
   "metadata": {},
   "outputs": [],
   "source": [
    "tok <- tokens_tolower(tok)"
   ]
  },
  {
   "cell_type": "markdown",
   "id": "e70909fb",
   "metadata": {},
   "source": [
    "### 04.03 Remove punctuation"
   ]
  },
  {
   "cell_type": "code",
   "execution_count": null,
   "id": "394363d9",
   "metadata": {},
   "outputs": [],
   "source": [
    "tok <- tokens(tok, remove_punct = TRUE, remove_symbols = TRUE, remove_numbers = TRUE)"
   ]
  },
  {
   "cell_type": "markdown",
   "id": "4b4da15c",
   "metadata": {},
   "source": [
    "### 04.04 Remove Stop words"
   ]
  },
  {
   "cell_type": "code",
   "execution_count": null,
   "id": "dc6f52fa",
   "metadata": {},
   "outputs": [],
   "source": [
    "tok <- tokens_remove(tok, pattern = c(stopwords(\"en\"), \"n\", \"i’m\"))"
   ]
  },
  {
   "cell_type": "markdown",
   "id": "ad781d84",
   "metadata": {},
   "source": [
    "### 04.05 Lemmatization"
   ]
  },
  {
   "cell_type": "code",
   "execution_count": null,
   "id": "af84bf10",
   "metadata": {},
   "outputs": [],
   "source": [
    "colnames(lemma) <- c(\"base\", \"variant\")\n",
    "lemma$base <- tolower(lemma$base)\n",
    "lemma$variant <- tolower(lemma$variant)\n",
    "\n",
    "lemma <- lemma[-which(lemma$variant == \"data\"),]          # don't change \"data\" to \"datum\"\n",
    "lemma <- lemma[-which(lemma$variant == \"sentencing\"),]    # don't change \"sentencing\" to \"sentence\"\n",
    "lemma <- lemma[!duplicated(lemma$variant),]               # remove duplicates\n",
    "\n",
    "tok_lemmatized <- tokens_replace(tok, lemma$variant, lemma$base)\n",
    "\n",
    "DFM <- dfm(tok_lemmatized)"
   ]
  },
  {
   "cell_type": "markdown",
   "id": "380bdb41",
   "metadata": {},
   "source": [
    "### 04.06 Pruning\n",
    "#### 04.06.01 Effect of Pruning"
   ]
  },
  {
   "cell_type": "code",
   "execution_count": null,
   "id": "3e2b7c09",
   "metadata": {},
   "outputs": [],
   "source": [
    "# How many words are included if words are excluded that don't appear at least count times?\n",
    "get_countaffected <- function(dfm, count) {\n",
    "  trimmed <- dfm_trim(dfm, min_termfreq = count)\n",
    "  return(nfeat(trimmed))\n",
    "}\n",
    "\n",
    "# Ho many words are included if words are excluded that don't appear in at least prop% of the documents\n",
    "get_propaffected <- function(dfm, prop) {\n",
    "  trimmed <- dfm_trim(dfm, min_docfreq = prop, docfreq_type = \"prop\")\n",
    "  return(nfeat(trimmed))\n",
    "}\n",
    "\n",
    "affected_count <- data.frame(count = 1:10)\n",
    "affected_prop <- data.frame(prop = seq(0.00001, 0.001, by = 0.00002))\n",
    "affected_count$affected <- sapply(X = affected_count$count, FUN = get_countaffected, dfm = DFM)\n",
    "affected_prop$affected  <- sapply(X = affected_prop$prop, FUN = get_propaffected, dfm = DFM)"
   ]
  },
  {
   "cell_type": "code",
   "execution_count": null,
   "id": "91120ed0",
   "metadata": {},
   "outputs": [],
   "source": [
    "plot_countaffected <- ggplot(affected_count, aes(x = count, y = affected)) +\n",
    "  geom_line() +\n",
    "  xlab(\"Minimum occurence of word in documents\") +\n",
    "  ylab(\"vocabulary size\") +\n",
    "  ggtitle(\"Effect of absolute pruning\") +\n",
    "  scale_x_continuous(minor_breaks = seq(1, 25, by = 1)) +\n",
    "  theme_light()\n",
    "plot_countaffected"
   ]
  },
  {
   "cell_type": "code",
   "execution_count": null,
   "id": "1d04d73d",
   "metadata": {},
   "outputs": [],
   "source": [
    "plot_propaffected <- ggplot(affected_prop, aes(x = prop, y = affected)) +\n",
    "  geom_line() +\n",
    "  xlab(\"occurence in at least x% of documents\") +\n",
    "  ylab(\"vocabulary size\") +\n",
    "  ggtitle(\"Effect of relative pruning\") +\n",
    "  theme_light()\n",
    "  #scale_x_continuous(minor_breaks = seq(0, 25, by = 1))\n",
    "plot_propaffected"
   ]
  },
  {
   "cell_type": "markdown",
   "id": "4fe7ad10",
   "metadata": {},
   "source": [
    "#### 04.06.02 Execution"
   ]
  },
  {
   "cell_type": "code",
   "execution_count": null,
   "id": "ba1bf372",
   "metadata": {},
   "outputs": [],
   "source": [
    "DFM_trimmed <- dfm_trim(DFM, min_termfreq = 2)\n",
    "\n",
    "topfeatures(DFM_trimmed)\n",
    "\n",
    "dfm_matrix <- convert(DFM_trimmed, to = \"lda\")"
   ]
  },
  {
   "cell_type": "markdown",
   "id": "f8696999",
   "metadata": {},
   "source": [
    "## 05 - Model Generation"
   ]
  },
  {
   "cell_type": "code",
   "execution_count": null,
   "id": "b326d35d",
   "metadata": {},
   "outputs": [],
   "source": [
    "K_range <- seq(4, 35, 1)                                             # Adapted from Bittermann (2022a)\n",
    "candidate_models <- list()\n",
    "model_iter <- 100\n",
    "\n",
    "for (i in 1:length(K_range)){\n",
    "  print(paste(i, \" / \", length(K_range)))\n",
    "  candidate_models[[i]] <- FitLdaModel(dtm = DFM_trimmed,\n",
    "                                       k = K_range[i],\n",
    "                                       iterations = model_iter,\n",
    "                                       alpha = 1/K_range[i],\n",
    "                                       optimize_alpha = TRUE)\n",
    "}"
   ]
  },
  {
   "cell_type": "markdown",
   "id": "25fa49cd",
   "metadata": {},
   "source": [
    "## 06 - LDAvis"
   ]
  },
  {
   "cell_type": "code",
   "execution_count": null,
   "id": "4d5ca5dd",
   "metadata": {},
   "outputs": [],
   "source": [
    "model <- candidate_models[[20]]\n",
    "\n",
    "jsona <- createJSON(phi = model$phi, theta = model$theta, doc.length = as.vector(ntoken(DFM_trimmed)), vocab = colnames(model$phi), term.frequency = TermDocFreq(model$data)$term_freq)\n",
    "serVis(jsona)\n",
    "\n",
    "remove(model)"
   ]
  },
  {
   "cell_type": "markdown",
   "id": "03167d11",
   "metadata": {},
   "source": [
    "## 07 -  Coherence and Exclusivity"
   ]
  },
  {
   "cell_type": "code",
   "execution_count": null,
   "id": "4b7a571b",
   "metadata": {},
   "outputs": [],
   "source": [
    "exclusivity <- function(model, dfm, num.words) {                     # Adapted from Bittermann (2022a)\n",
    "  phi <- model$phi\n",
    "  p_w <- colSums(dfm)/sum(dfm)\n",
    "  \n",
    "  res <- apply(phi, 1, function(x, num.words, pw) {\n",
    "    x <- log(x/pw)\n",
    "    return((sort(x, decreasing = TRUE)[1:num.words]))\n",
    "  }, num.words, p_w)\n",
    "  \n",
    "  return(colMeans(res))\n",
    "}\n",
    "\n",
    "coherence <- function(model, DFM, N = 10) {                          # Adapted from Wiedemann and Niekler (2017)\n",
    "  \n",
    "  # Ensure matrix or Matrix-format (convert if SparseM)\n",
    "  require(Matrix)\n",
    "  require(slam)\n",
    "  if (is.simple_triplet_matrix(DFM)) {\n",
    "    DFM <- sparseMatrix(i=DTM$i, j=DTM$j, x=DTM$v, dims=c(DTM$nrow, DTM$ncol), dimnames = dimnames(DTM))\n",
    "  }\n",
    "  \n",
    "  DTMBIN <- DFM\n",
    "  DTMBIN[DTMBIN > 0] <- 1\n",
    "  \n",
    "  documentFrequency <- colSums(DTMBIN)\n",
    "  names(documentFrequency) <- colnames(DTMBIN)\n",
    "  \n",
    "  K <- dim(model$phi)[1]\n",
    "  \n",
    "  topNtermsPerTopic <- GetTopTerms(model$phi, M = N)\n",
    "  allTopicModelTerms <- unique(as.vector(topNtermsPerTopic))\n",
    "  \n",
    "  DTMpreprocessed <- DTMBIN[, allTopicModelTerms]\n",
    "  DTMpreprocessedCooc <- t(DTMpreprocessed) %*% DTMpreprocessed\n",
    "  DTMpreprocessedCooc <- t((DTMpreprocessedCooc + 1) / colSums(DTMpreprocessed))\n",
    "  DTMpreprocessedCooc <- log(DTMpreprocessedCooc)\n",
    "  DTMpreprocessedCooc <- as.matrix(DTMpreprocessedCooc)\n",
    "  \n",
    "  coherence <- rep(0, K)\n",
    "  pb <- txtProgressBar(max = K)\n",
    "  for (topicIdx in 1:K) {\n",
    "    setTxtProgressBar(pb, topicIdx)\n",
    "    topWordsOfTopic <- topNtermsPerTopic[, topicIdx]\n",
    "    coherence[topicIdx] <- 0\n",
    "    for (m in 2:length(topWordsOfTopic)) {\n",
    "      for (l in 1:(m-1)) {\n",
    "        mTerm <- topWordsOfTopic[m]\n",
    "        lTerm <- topWordsOfTopic[l]\n",
    "        coherence[topicIdx] <- coherence[topicIdx] + DTMpreprocessedCooc[mTerm, lTerm]\n",
    "      }\n",
    "    }\n",
    "  }\n",
    "  close(pb)\n",
    "  return(coherence)\n",
    "}"
   ]
  },
  {
   "cell_type": "code",
   "execution_count": null,
   "id": "08f0db47",
   "metadata": {},
   "outputs": [],
   "source": [
    "exc <- lapply(candidate_models, exclusivity, DFM_trimmed, num.words = 10)\n",
    "exc_mean <- unlist(lapply(exc, mean))\n",
    "\n",
    "coh <- lapply(candidate_models, coherence, DFM_trimmed, N = 10)\n",
    "coh_mean <- unlist(lapply(coh, mean))\n",
    "\n",
    "\n",
    "graph_df <- data.frame(scale(exc_mean), scale(coh_mean))\n",
    "graph_df$mean <- apply(graph_df, 1, mean)\n",
    "graph_df$x <- min(K_range):max(K_range)\n",
    "colnames(graph_df) <- c(\"excl\", \"cohe\", \"mean\", \"x\")\n",
    "\n",
    "graph <- ggplot(graph_df, aes(y = exc_mean)) +\n",
    "  geom_line(aes(x = x, y = excl, colour = \"exclusivity\"), linewidth = 1) +\n",
    "  geom_line(aes(x = x, y = cohe, colour = \"coherence\"), linewidth = 1) +\n",
    "  geom_line(aes(x = x, y = mean, colour = \"mean\"), linewidth = 1) +\n",
    "  scale_color_manual(name = \"Quality Metrics\", values = c(\"exclusivity\" = \"darkblue\", \"coherence\" = \"darkred\", \"mean\" = \"darkgreen\")) +\n",
    "  ggtitle(\"Topic Quality Metrics per post\") +\n",
    "  xlab(\"number of topics K\") +\n",
    "  ylab(\"Scaled Score\") +\n",
    "  scale_x_continuous(breaks = seq(min(graph_df$x), max(graph_df$x), by = 2)) +\n",
    "  theme_light()\n",
    "\n",
    "graph"
   ]
  },
  {
   "cell_type": "markdown",
   "id": "6d2b400f",
   "metadata": {},
   "source": [
    "## 08 - play the same song again (aggregate to user level)"
   ]
  },
  {
   "cell_type": "code",
   "execution_count": null,
   "id": "e5c8e2b3",
   "metadata": {},
   "outputs": [],
   "source": [
    "user_level_data <- posts %>%\n",
    "  group_by(`Username (shortcode)`) %>%\n",
    "  summarise(fulltext = paste(Text, collapse = \" \"))\n",
    "\n",
    "acctexts <- as.vector(user_level_data$fulltext)\n",
    "acctexts <- setNames(acctexts, user_level_data$`Username (shortcode)`)\n",
    "\n",
    "acctok <- tokens(acctexts, split_tags = TRUE)\n",
    "\n",
    "\n",
    "acctok <- tokens_tolower(acctok)    # Convert to lowercase\n",
    "acctok <- tokens(acctok, remove_punct = TRUE, remove_symbols = TRUE, remove_numbers = TRUE)  # Remove punctuation\n",
    "acctok <- tokens_remove(acctok, pattern = c(stopwords(\"en\"), \"n\", \"i’m\"))   # Remove Stop words\n",
    "\n",
    "# Lemmatization\n",
    "acctok_lemmatized <- tokens_replace(acctok, lemma$variant, lemma$base)\n",
    "\n",
    "accDFM <- dfm(acctok_lemmatized)\n",
    "\n",
    "\n",
    "\n",
    "# DECIDE PRUNING\n",
    "acc_affected_count <- data.frame(count = 1:10)\n",
    "acc_affected_prop <- data.frame(prop = seq(0.00001, 0.001, by = 0.00002))\n",
    "acc_affected_count$affected <- sapply(X = acc_affected_count$count, FUN = get_countaffected, dfm = DFM)\n",
    "acc_affected_prop$affected  <- sapply(X = acc_affected_prop$prop, FUN = get_propaffected, dfm = DFM)\n",
    "\n",
    "plot_acc_countaffected <- ggplot(acc_affected_count, aes(x = count, y = affected)) +\n",
    "  geom_line() +\n",
    "  xlab(\"Minimum occurence of word in documents\") +\n",
    "  ylab(\"vocabulary size\") +\n",
    "  ggtitle(\"Effect of absolute pruning\") +\n",
    "  scale_x_continuous(minor_breaks = seq(1, 10, by = 0.5))\n",
    "plot_acc_countaffected"
   ]
  },
  {
   "cell_type": "code",
   "execution_count": null,
   "id": "e467680c",
   "metadata": {},
   "outputs": [],
   "source": [
    "plot_acc_propaffected <- ggplot(acc_affected_prop, aes(x = prop, y = affected)) +\n",
    "  geom_line() +\n",
    "  xlab(\"occurence in at least x% of documents\") +\n",
    "  ylab(\"vocabulary size\") +\n",
    "  ggtitle(\"Effect of relative pruning\")\n",
    "  #scale_x_continuous(minor_breaks = seq(0, 25, by = 1))\n",
    "plot_acc_propaffected"
   ]
  },
  {
   "cell_type": "code",
   "execution_count": null,
   "id": "eedf5b5a",
   "metadata": {},
   "outputs": [],
   "source": [
    "acc_DFM_trimmed <- dfm_trim(accDFM, min_termfreq = 2)\n",
    "topfeatures(acc_DFM_trimmed)\n",
    "acc_dfm_matrix <- convert(acc_DFM_trimmed, to = \"lda\")\n",
    "\n",
    "acc_K_range <- seq(4, 35, 1)                                             # Adapted from Bittermann (2022a)\n",
    "acc_candidate_models <- list()\n",
    "acc_model_iter <- 100\n",
    "\n",
    "for (i in 1:length(acc_K_range)){\n",
    "  print(paste(i, \" / \", length(acc_K_range)))\n",
    "  acc_candidate_models[[i]] <- FitLdaModel(dtm = acc_DFM_trimmed,\n",
    "                                       k = acc_K_range[i],\n",
    "                                       iterations = acc_model_iter,\n",
    "                                       alpha = 1/acc_K_range[i],\n",
    "                                       optimize_alpha = TRUE)\n",
    "}\n",
    "\n",
    "\n",
    "\n",
    "acc_exc <- lapply(acc_candidate_models, exclusivity, acc_DFM_trimmed, num.words = 10)\n",
    "acc_exc_mean <- unlist(lapply(acc_exc, mean))\n",
    "\n",
    "acc_coh <- lapply(acc_candidate_models, coherence, acc_DFM_trimmed, N = 10)\n",
    "acc_coh_mean <- unlist(lapply(acc_coh, mean))\n",
    "\n",
    "\n",
    "acc_graph_df <- data.frame(scale(acc_exc_mean), scale(acc_coh_mean))\n",
    "acc_graph_df$mean <- apply(acc_graph_df, 1, mean)\n",
    "acc_graph_df$x <- min(acc_K_range):max(acc_K_range)\n",
    "colnames(acc_graph_df) <- c(\"excl\", \"cohe\", \"mean\", \"x\")\n",
    "\n",
    "acc_graph <- ggplot(acc_graph_df, aes(y = mean)) +\n",
    "  geom_line(aes(x = x, y = excl, colour = \"exclusivity\"), linewidth = 1) +\n",
    "  geom_line(aes(x = x, y = cohe, colour = \"coherence\"), linewidth = 1) +\n",
    "  geom_line(aes(x = x, y = mean, colour = \"mean\"), linewidth = 1) +\n",
    "  scale_color_manual(name = \"Quality Metrics\", values = c(\"exclusivity\" = \"darkblue\", \"coherence\" = \"darkred\", \"mean\" = \"darkgreen\")) +\n",
    "  ggtitle(\"Topic Quality Metrics per account\") +\n",
    "  xlab(\"number of topics K\") +\n",
    "  ylab(\"Scaled Score\") +\n",
    "  scale_x_continuous(breaks = seq(min(graph_df$x), max(graph_df$x), by = 2)) +\n",
    "  theme_light()\n",
    "\n",
    "acc_graph"
   ]
  },
  {
   "cell_type": "markdown",
   "id": "977c9854",
   "metadata": {},
   "source": [
    "## 09 - Manual Labeling of Topics\n",
    "\n",
    "_adapted from Bittermann (2022a)_"
   ]
  },
  {
   "cell_type": "markdown",
   "id": "dd881877",
   "metadata": {},
   "source": [
    "### Account basis"
   ]
  },
  {
   "cell_type": "code",
   "execution_count": null,
   "id": "3693469c",
   "metadata": {},
   "outputs": [],
   "source": [
    "acc_select <- acc_K_range %in% c(6,15,19,22,29,31,34)\n",
    "acc_candidates_inspect <- acc_candidate_models[acc_select]\n",
    "\n",
    "for (i in 1:length(acc_candidates_inspect)){\n",
    "  print(paste(\"### Topics for k =\", dim(acc_candidates_inspect[[i]]$phi)[1], \"###\"))\n",
    "  print(GetTopTerms(acc_candidates_inspect[[i]]$phi, 10))\n",
    "}\n",
    "\n",
    "acc_final_model <- acc_candidates_inspect[[7]]\n",
    "\n",
    "acc_labels = c(\"REMOVE\",\n",
    "               \"Cooking\",\n",
    "               \"Skin & Beauty\",\n",
    "               \"REMOVE\",\n",
    "               \"U.S. politics\",\n",
    "               \"Religion\",\n",
    "               \"Fitness\",\n",
    "               \"TV and series\",\n",
    "               \"Fashion Shopping\",\n",
    "               \"Shopping Promo\",\n",
    "               \"Hair\",\n",
    "               \"REMOVE\",\n",
    "               \"Basketball\",\n",
    "               \"Motivation\",\n",
    "               \"REMOVE\",\n",
    "               \"Fashion Shopping\",\n",
    "               \"REMOVE\",\n",
    "               \"Hair\",\n",
    "               \"REMOVE\",\n",
    "               \"Street Fashion\",\n",
    "               \"Music Festivals\",\n",
    "               \"Sports\",\n",
    "               \"Hair\",\n",
    "               \"Stand-Up Comedy\",\n",
    "               \"REMOVE\",\n",
    "               \"Hair\",\n",
    "               \"Makeup & Cosmetics\",\n",
    "               \"Happy / Celebrations\",\n",
    "               \"Entrepreneur\",\n",
    "               \"REMOVE\",\n",
    "               \"Michigan\",\n",
    "               \"REMOVE\",\n",
    "               \"REMOVE\",\n",
    "               \"Horoscope\")\n",
    "\n",
    "acc_theta <- as.data.frame(acc_final_model$theta)\n",
    "acc_theta <- acc_theta[,-which(acc_labels == \"REMOVE\")]\n",
    "\n",
    "acc_max_theta <- apply(acc_theta, 1, function(x){which.max(x)})\n",
    "acc_max_theta <- as.data.frame(acc_max_theta)\n",
    "acc_max_theta$label <- acc_labels[-which(acc_labels == \"REMOVE\")][acc_max_theta$acc_max_theta]\n",
    "\n",
    "\n",
    "acc_plot_max_theta <- ggplot(acc_max_theta, aes(x = label)) +\n",
    "  geom_bar() +\n",
    "  ggtitle(\"Topic Distribution on account level (k = 24)\") +\n",
    "  xlab(\"Topic Label\") +\n",
    "  ylab(\"Number of accounts\") +\n",
    "  theme_light() +\n",
    "  theme(axis.text.x = element_text(angle = 45, vjust = 1, hjust=1))\n",
    "\n",
    "acc_plot_max_theta"
   ]
  },
  {
   "cell_type": "markdown",
   "id": "75f93c4a",
   "metadata": {},
   "source": [
    "### post basis"
   ]
  },
  {
   "cell_type": "code",
   "execution_count": null,
   "id": "fe66a8c5",
   "metadata": {},
   "outputs": [],
   "source": [
    "select <- K_range %in% c(33)\n",
    "candidates_inspect <- candidate_models[select]\n",
    "\n",
    "for (i in 1:length(candidates_inspect)){\n",
    "  print(paste(\"### Topics for k =\", dim(candidates_inspect[[i]]$phi)[1], \"###\"))\n",
    "  print(GetTopTerms(candidates_inspect[[i]]$phi, 10))\n",
    "}\n",
    "\n",
    "final_model <- candidates_inspect[[1]]\n",
    "\n",
    "labels <- c(\"Horoscope\",\n",
    "            \"REMOVE\",\n",
    "            \"Health\",\n",
    "            \"REMOVE\",\n",
    "            \"REMOVE\",\n",
    "            \"Street Fashion\",\n",
    "            \"Beauty & Makeup\",\n",
    "            \"Hair\",\n",
    "            \"Music Festival\",\n",
    "            \"REMOVE\",\n",
    "            \"Hair\",\n",
    "            \"Happy / Celebrations\",\n",
    "            \"Hair\",\n",
    "            \"Michigan\",\n",
    "            \"Fashion\",\n",
    "            \"Hair\",\n",
    "            \"REMOVE\",\n",
    "            \"TV and series\",\n",
    "            \"U.S. politics\",\n",
    "            \"Giveaway\",\n",
    "            \"Basketball\",\n",
    "            \"Football\",\n",
    "            \"Hair\",\n",
    "            \"Cooking\",\n",
    "            \"REMOVE\",\n",
    "            \"Fitness\",\n",
    "            \"Stand-Up Comedy\",\n",
    "            \"REMOVE\",\n",
    "            \"TV and series\",\n",
    "            \"Photography\",\n",
    "            \"Fitness\",\n",
    "            \"Hair\",\n",
    "            \"Beauty & Makeup\"\n",
    "            )\n",
    "\n",
    "theta <- as.data.frame(final_model$theta)\n",
    "theta <- theta[,-which(labels == \"REMOVE\")]\n",
    "\n",
    "max_theta <- apply(theta, 1, function(x){which.max(x)})\n",
    "max_theta <- as.data.frame(max_theta)\n",
    "max_theta$label <- labels[-which(labels == \"REMOVE\")][max_theta$max_theta]\n",
    "\n",
    "\n",
    "plot_max_theta <- ggplot(max_theta, aes(x = label)) +\n",
    "  geom_bar() +\n",
    "  ggtitle(\"Topic Distribution on post level (k = 26)\") +\n",
    "  xlab(\"Topic Label\") +\n",
    "  ylab(\"Number of posts\") +\n",
    "  theme_light() +\n",
    "  theme(axis.text.x = element_text(angle = 45, vjust = 1, hjust=1))\n",
    "\n",
    "plot_max_theta"
   ]
  },
  {
   "cell_type": "markdown",
   "id": "a500d037",
   "metadata": {},
   "source": [
    "## 10 - Finally export this data for insertion\n",
    "\n",
    "### Account"
   ]
  },
  {
   "cell_type": "code",
   "execution_count": null,
   "id": "f51ecbf0",
   "metadata": {},
   "outputs": [],
   "source": [
    "acc_max_theta$account <- rownames(acc_max_theta)\n",
    "rownames(acc_max_theta) <- 1:dim(acc_max_theta)[1]\n",
    "acc_max_theta <- acc_max_theta[,-1]"
   ]
  },
  {
   "cell_type": "code",
   "execution_count": null,
   "id": "9c72a835",
   "metadata": {},
   "outputs": [],
   "source": [
    "write_csv(acc_max_theta, '../data/topics_account.csv')"
   ]
  },
  {
   "cell_type": "markdown",
   "id": "c4aaeb0a",
   "metadata": {},
   "source": [
    "### post"
   ]
  },
  {
   "cell_type": "code",
   "execution_count": null,
   "id": "06384685",
   "metadata": {},
   "outputs": [],
   "source": [
    "max_theta$Post.ID <- rownames(max_theta)\n",
    "rownames(max_theta) <- 1:dim(max_theta)[1]\n",
    "max_theta <- max_theta[,-1]"
   ]
  },
  {
   "cell_type": "code",
   "execution_count": null,
   "id": "87b84733",
   "metadata": {},
   "outputs": [],
   "source": [
    "write_csv(max_theta, '../data/topics_posts.csv')"
   ]
  }
 ],
 "metadata": {
  "kernelspec": {
   "display_name": "R",
   "language": "R",
   "name": "ir"
  },
  "language_info": {
   "codemirror_mode": "r",
   "file_extension": ".r",
   "mimetype": "text/x-r-source",
   "name": "R",
   "pygments_lexer": "r",
   "version": "4.2.3"
  }
 },
 "nbformat": 4,
 "nbformat_minor": 5
}
