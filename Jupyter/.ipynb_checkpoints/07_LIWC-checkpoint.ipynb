{
 "cells": [
  {
   "cell_type": "markdown",
   "id": "21aa8621",
   "metadata": {},
   "source": [
    "_Does size matter? The effect of Instagram influencer account size on post sentiment and resulting marketing outcomes_\n",
    "\n",
    "_Master's thesis by Thomas A. Frost_"
   ]
  },
  {
   "cell_type": "markdown",
   "id": "3b96842b",
   "metadata": {},
   "source": [
    "# Part 7: LIWC\n",
    "\n",
    "This code is dependend on the output of the standalone software LIWC - for the specific posts from the thesis, this output is included in the \"data\" folder."
   ]
  },
  {
   "cell_type": "markdown",
   "id": "09e3ddba",
   "metadata": {},
   "source": [
    "## 02 - Setup"
   ]
  },
  {
   "cell_type": "code",
   "execution_count": null,
   "id": "5207a8e0",
   "metadata": {},
   "outputs": [],
   "source": [
    "library(tidyverse)"
   ]
  },
  {
   "cell_type": "markdown",
   "id": "bf2277cb",
   "metadata": {},
   "source": [
    "## 03 - Data Import"
   ]
  },
  {
   "cell_type": "code",
   "execution_count": null,
   "id": "e1c03e54",
   "metadata": {},
   "outputs": [],
   "source": [
    "dataset <- read_csv(\"../data/finaldataset_v3.csv\", col_types = \"ccnccnffnnfnf\")\n",
    "profiles <- read_csv2(\"../data/profiles_gender.csv\", col_types = \"cnfllnff\")\n",
    "liwc <- read_csv(\"../data/finaldataset_v3_LIWC.csv\")"
   ]
  },
  {
   "cell_type": "markdown",
   "id": "62c52647",
   "metadata": {},
   "source": [
    "## 04 - Merge SiEBERT with LIWC"
   ]
  },
  {
   "cell_type": "code",
   "execution_count": null,
   "id": "4ec1409c",
   "metadata": {},
   "outputs": [],
   "source": [
    "dataset$uid <- paste(dataset$Username, \"_\", dataset$Post.ID)\n",
    "liwc$uid <- paste(liwc$Username, \"_\", liwc$Post.ID)\n",
    "\n",
    "merged <- merge(dataset, liwc, by = \"uid\", all.x = TRUE, sort = FALSE)\n",
    "\n",
    "merged <- merged[-1]\n",
    "merged <- merged[-c(14:26)]\n",
    "\n",
    "colnames(merged)[1:13] <- colnames(dataset)[1:13]"
   ]
  },
  {
   "cell_type": "markdown",
   "id": "e240c62e",
   "metadata": {},
   "source": [
    "## 05 - Create new sentiment prediction"
   ]
  },
  {
   "cell_type": "code",
   "execution_count": null,
   "id": "10d94af1",
   "metadata": {},
   "outputs": [],
   "source": [
    "sentimentliwc <- function(tonenum) {\n",
    "  if(is.na(tonenum) == FALSE) {\n",
    "    if(tonenum > 50) {\n",
    "      r <- \"POSITIVE\"\n",
    "    } else {\n",
    "      r <- \"NEGATIVE\"\n",
    "    }\n",
    "    return(r)\n",
    "  } else {\n",
    "    return(NA)\n",
    "  }\n",
    "}\n",
    "\n",
    "merged$sentiment.liwc <- sapply(merged$Tone, sentimentliwc)\n",
    "\n",
    "table(merged$sentiment.label, merged$sentiment.liwc)"
   ]
  },
  {
   "cell_type": "code",
   "execution_count": null,
   "id": "64317bc3",
   "metadata": {},
   "outputs": [],
   "source": [
    "write_csv(merged, \"../data/finaldataset_v3_inklLIWC.csv\")"
   ]
  },
  {
   "cell_type": "markdown",
   "id": "483d5119",
   "metadata": {},
   "source": [
    "## 06 - calculate relative positive shares"
   ]
  },
  {
   "cell_type": "code",
   "execution_count": null,
   "id": "aad3960b",
   "metadata": {},
   "outputs": [],
   "source": [
    "merged <- drop_na(merged, sentiment.liwc)\n",
    "\n",
    "merged$positive <- merged$sentiment.liwc == \"POSITIVE\"\n",
    "merged$positive <- merged$positive * 1\n",
    "\n",
    "merged_by_account <- merged %>%\n",
    "  group_by(Username) %>%\n",
    "  summarise(positives = sum(positive), num_posts = n()) %>%\n",
    "  merge(data.frame(Username = profiles$Username, followers.new = profiles$followers_new, size.new = profiles$size_new), by = \"Username\", all.y = FALSE, sort = FALSE)\n",
    "\n",
    "merged_by_account$rel.positives <- merged_by_account$positives / merged_by_account$num_posts\n",
    "\n",
    "merged_by_account$size.new <- ordered(merged_by_account$size.new, c(\"nano\", \"mikro\", \"midtier\", \"makro\", \"mega\"))\n",
    "\n",
    "merged_by_account$rel.negatives <- 1 - merged_by_account$rel.positives"
   ]
  },
  {
   "cell_type": "markdown",
   "id": "a0fb36fc",
   "metadata": {},
   "source": [
    "## 07 - Graphen"
   ]
  },
  {
   "cell_type": "code",
   "execution_count": null,
   "id": "bf664f28",
   "metadata": {},
   "outputs": [],
   "source": [
    "a <- ggplot(merged, aes(x = 1:length(Post.ID), y = Tone)) +\n",
    "  geom_point()\n",
    "\n",
    "a"
   ]
  },
  {
   "cell_type": "code",
   "execution_count": null,
   "id": "fe3474f2",
   "metadata": {},
   "outputs": [],
   "source": [
    "b <- ggplot(merged_by_account, aes(x = size.new, y = rel.negatives)) +\n",
    "  geom_boxplot() +\n",
    "  xlab(\"Size classes\") +\n",
    "  ylab(\"Share of negative posts\") +\n",
    "  ggtitle(\"Share of negative accounts per account (LIWC)\")\n",
    "\n",
    "b"
   ]
  },
  {
   "cell_type": "markdown",
   "id": "aadf3124",
   "metadata": {},
   "source": [
    "## 08 - Numbers, please"
   ]
  },
  {
   "cell_type": "code",
   "execution_count": null,
   "id": "6b140431",
   "metadata": {},
   "outputs": [],
   "source": [
    "cor((merged$sentiment.label == \"POSITIVE\") * 1, (merged$sentiment.liwc == \"POSITIVE\") * 1)"
   ]
  },
  {
   "cell_type": "markdown",
   "id": "3038815a",
   "metadata": {},
   "source": [
    "### 08.01 - ANOVA"
   ]
  },
  {
   "cell_type": "code",
   "execution_count": null,
   "id": "a3c04f2f",
   "metadata": {},
   "outputs": [],
   "source": [
    "anova <- aov(merged_by_account$rel.negatives ~ merged_by_account$size.new)\n",
    "summary(anova)"
   ]
  }
 ],
 "metadata": {
  "kernelspec": {
   "display_name": "R",
   "language": "R",
   "name": "ir"
  },
  "language_info": {
   "codemirror_mode": "r",
   "file_extension": ".r",
   "mimetype": "text/x-r-source",
   "name": "R",
   "pygments_lexer": "r",
   "version": "4.2.3"
  }
 },
 "nbformat": 4,
 "nbformat_minor": 5
}
