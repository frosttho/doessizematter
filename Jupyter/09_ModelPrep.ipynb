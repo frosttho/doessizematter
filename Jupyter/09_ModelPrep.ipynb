{
 "cells": [
  {
   "cell_type": "markdown",
   "id": "21aa8621",
   "metadata": {},
   "source": [
    "_Does size matter? The effect of Instagram influencer account size on post sentiment and resulting marketing outcomes_\n",
    "\n",
    "_Master's thesis by Thomas A. Frost_"
   ]
  },
  {
   "cell_type": "markdown",
   "id": "3b96842b",
   "metadata": {},
   "source": [
    "# Part 9: Model Data Preparation\n",
    "\n",
    "This script assembles data frames to include all variables necessary to run the models"
   ]
  },
  {
   "cell_type": "markdown",
   "id": "09e3ddba",
   "metadata": {},
   "source": [
    "## 01 - Functions"
   ]
  },
  {
   "cell_type": "code",
   "execution_count": null,
   "id": "5207a8e0",
   "metadata": {},
   "outputs": [],
   "source": [
    "monthdiffs <- function(date) {\n",
    "  if (is.na(date) == FALSE) {\n",
    "    diff <- (2022 - year(date)) * 12      # Base time: December 2022\n",
    "    diff <- diff + (12 - month(date))\n",
    "    if (diff < 0) {\n",
    "      diff <- 0\n",
    "    }\n",
    "    return(diff)\n",
    "  } else {\n",
    "    return(NA)\n",
    "  }\n",
    "}\n",
    "\n",
    "monthdiffsTo <- function(datefrom, dateto) {\n",
    "  dateto <- as.Date(paste(strsplit(dateto, \"/\")[[1]][2], strsplit(dateto, \"/\")[[1]][1], \"01\", sep=\"-\"))\n",
    "  if ((is.na(datefrom) | is.na(dateto))) {\n",
    "    return(NA)\n",
    "  } else {\n",
    "    diff <- (year(dateto) - year(datefrom)) * 12\n",
    "    diff <- diff + (month(dateto) - month(datefrom))\n",
    "    if (diff < 0) {\n",
    "      diff <- 0\n",
    "    }\n",
    "    return(diff)\n",
    "  }\n",
    "}"
   ]
  },
  {
   "cell_type": "markdown",
   "id": "bf2277cb",
   "metadata": {},
   "source": [
    "## 02 - Setup"
   ]
  },
  {
   "cell_type": "code",
   "execution_count": null,
   "id": "e1c03e54",
   "metadata": {},
   "outputs": [],
   "source": [
    "library(tidyverse)"
   ]
  },
  {
   "cell_type": "markdown",
   "id": "62c52647",
   "metadata": {},
   "source": [
    "## 03 - Data Preparation\n",
    "\n",
    "### 03.01 - read data\n",
    "\n",
    "#### STUDY 1"
   ]
  },
  {
   "cell_type": "code",
   "execution_count": null,
   "id": "4ec1409c",
   "metadata": {},
   "outputs": [],
   "source": [
    "dataset <- read_csv(\"../data/finaldataset_v3.csv\", col_types = \"ccnccnffnnfnlnnnclfcclcffnnff\")\n",
    "profiles <- read_csv2(\"../data/profiles_gender.csv\", col_types = \"cnfllnff\")\n",
    "profilesv2 <- read_csv(\"../data/profiles_v2.csv\", col_types = \"cnflnlnnnclfcclcf\")\n",
    "topics_account <- read_csv(\"../data/topics_account.csv\", col_types = \"fc\")\n",
    "initialscraping <- read_tsv(\"../data/Instagram__Posts_corrected_v5.tsv\", col_types = \"ccncccnncccfcn\")\n",
    "moreinitialscraping <- read_delim(\"../data/Instagram__Posts_corrected.tsv\", delim = \"\\t\", quote=\"\", col_types = \"ccnTccnnccccc\")\n",
    "created <- read_csv(\"../data/final_users_list_created.csv\", col_types = \"ncc\")\n",
    "\n",
    "created <- created[-1]\n",
    "Sys.setlocale(category = \"LC_ALL\", locale = \"en\")\n",
    "created$created <- as.Date(paste(\"01\", created$created), format = \"%d %B %Y\")"
   ]
  },
  {
   "cell_type": "markdown",
   "id": "68fbe431",
   "metadata": {},
   "source": [
    "#### STUDY 2"
   ]
  },
  {
   "cell_type": "code",
   "execution_count": null,
   "id": "2f5b1bf7",
   "metadata": {},
   "outputs": [],
   "source": [
    "study2 <- read_csv(\"../data/study2_data_socialblade_topics.csv\", col_types = \"ccnccnfnfnncnlnnnclccclccfnc\")"
   ]
  },
  {
   "cell_type": "markdown",
   "id": "e240c62e",
   "metadata": {},
   "source": [
    "### 03.02 - combine account-level data"
   ]
  },
  {
   "cell_type": "code",
   "execution_count": null,
   "id": "10d94af1",
   "metadata": {},
   "outputs": [],
   "source": [
    "colnames(topics_account) <- c(\"label\", \"Username\")\n",
    "\n",
    "profiles <- left_join(profiles, topics_account, by = \"Username\", keep = FALSE, na_matches = \"never\")\n",
    "colnames(profiles)[9] <- \"Topic.Account\"\n",
    "\n",
    "dataset$positive <- dataset$sentiment.label == \"POSITIVE\"\n",
    "dataset$positive <- dataset$positive * 1"
   ]
  },
  {
   "cell_type": "markdown",
   "id": "61ae2853",
   "metadata": {},
   "source": [
    "### 03.03 - group all data to account level"
   ]
  },
  {
   "cell_type": "code",
   "execution_count": null,
   "id": "23b9b9f7",
   "metadata": {},
   "outputs": [],
   "source": [
    "by_account <- dataset %>%\n",
    "  group_by(Username) %>%\n",
    "  summarise(positives = sum(positive), num_posts = n()) %>%\n",
    "  merge(data.frame(Username = profiles$Username,\n",
    "                   followers.new = profiles$followers_new,\n",
    "                   size.new = profiles$size_new,\n",
    "                   Topic.Account = profiles$Topic.Account,\n",
    "                   gender = profiles$gender,\n",
    "                   followees = profilesv2$followees,\n",
    "                   is_business_account = profilesv2$is_business_account,\n",
    "                   is_verified = profilesv2$is_verified\n",
    "  ),\n",
    "  by = \"Username\", all.y = FALSE, sort = FALSE)\n",
    "\n",
    "by_account$rel.positives <- by_account$positives / by_account$num_posts\n",
    "by_account$size.new <- ordered(by_account$size.new, c(\"nano\", \"mikro\", \"midtier\", \"makro\", \"mega\"))\n",
    "by_account$rel.negatives <- 1 - by_account$rel.positives"
   ]
  },
  {
   "cell_type": "markdown",
   "id": "e15d7044",
   "metadata": {},
   "source": [
    "## 04 - missing variables\n",
    "\n",
    "### 04.01 - bringing back the number of posts per account"
   ]
  },
  {
   "cell_type": "code",
   "execution_count": null,
   "id": "759cadf8",
   "metadata": {},
   "outputs": [],
   "source": [
    "dataset <- left_join(dataset, by_account[c(\"Username\", \"num_posts\")], by = \"Username\", na_matches = \"never\", multiple = \"first\")"
   ]
  },
  {
   "cell_type": "markdown",
   "id": "a5aa633a",
   "metadata": {},
   "source": [
    "### 04.02 - Geo Location"
   ]
  },
  {
   "cell_type": "code",
   "execution_count": null,
   "id": "b2e7baf9",
   "metadata": {},
   "outputs": [],
   "source": [
    "dataset <- left_join(dataset, data.frame(Post.ID = initialscraping$`Post ID`, Location = initialscraping$`Location of Post`),  by = \"Post.ID\", na_matches = \"never\", multiple = \"first\")"
   ]
  },
  {
   "cell_type": "markdown",
   "id": "e8631781",
   "metadata": {},
   "source": [
    "### 04.03 - Post Length"
   ]
  },
  {
   "cell_type": "code",
   "execution_count": null,
   "id": "2a32b264",
   "metadata": {},
   "outputs": [],
   "source": [
    "moreinitialscraping$Words <- strsplit(moreinitialscraping$Text, \" \")\n",
    "moreinitialscraping$NumWords <- lapply(X = moreinitialscraping$Words, FUN = length)\n",
    "\n",
    "merger <- select(moreinitialscraping, 'Post ID', 'NumWords')\n",
    "\n",
    "colnames(merger)[1] <- \"Post.ID\"\n",
    "\n",
    "dataset <- left_join(dataset, merger,  by = \"Post.ID\", na_matches = \"never\", multiple = \"first\")"
   ]
  },
  {
   "cell_type": "markdown",
   "id": "72349477",
   "metadata": {},
   "source": [
    "### 04.04 - account age"
   ]
  },
  {
   "cell_type": "code",
   "execution_count": null,
   "id": "58f0f723",
   "metadata": {},
   "outputs": [],
   "source": [
    "created$age <- unlist(lapply(created$created, monthdiffs))\n",
    "dataset <- left_join(dataset, select(created, Username, age), by = \"Username\", na_matches = \"never\", multiple = \"first\")\n",
    "by_account <- left_join(by_account, select(created, Username, age), by = \"Username\", na_matches = \"never\", multiple = \"first\")\n",
    "study2 <- left_join(study2, select(created, Username, created), by = \"Username\", na_matches = \"never\", multiple = \"first\")"
   ]
  },
  {
   "cell_type": "markdown",
   "id": "fec4cdf4",
   "metadata": {},
   "source": [
    "### 04.05 - post date"
   ]
  },
  {
   "cell_type": "code",
   "execution_count": null,
   "id": "69ed481a",
   "metadata": {},
   "outputs": [],
   "source": [
    "dataset <- left_join(dataset, data.frame(Post.ID = initialscraping$`Post ID`, Date.UTC = initialscraping$`Date UTC`), by = \"Post.ID\", na_matches = \"never\", multiple = \"first\")\n",
    "dataset$Date.UTC <- substr(dataset$Date.UTC, 1, 10)\n",
    "dataset$Date.UTC <- as.Date(dataset$Date.UTC)\n",
    "dataset$month <- month(dataset$Date.UTC)"
   ]
  },
  {
   "cell_type": "markdown",
   "id": "ad51bb75",
   "metadata": {},
   "source": [
    "## 05 - setup dataset model 1"
   ]
  },
  {
   "cell_type": "code",
   "execution_count": null,
   "id": "f03192e6",
   "metadata": {},
   "outputs": [],
   "source": [
    "model1 <- data.frame(\n",
    "  follower.class = dataset$size.new,\n",
    "  gender = dataset$gender,\n",
    "  num.Followees = dataset$followees,\n",
    "  is.business = dataset$is.business,\n",
    "  is.verified = dataset$is.verified,\n",
    "  num.Posts = dataset$num_posts,\n",
    "  account.age = dataset$age,\n",
    "  is.located = dataset$Location != 'None',\n",
    "  num.Hashtags = dataset$TotalNumHashtags,\n",
    "  topic.post = dataset$Topic.Post,\n",
    "  num.Mentions = dataset$TotalNumMentions,\n",
    "  is.carousel = dataset$Product.Type == 'carousel_container',\n",
    "  post.length = unlist(dataset$NumWords),\n",
    "  sentiment = dataset$sentiment.label,\n",
    "  username = as.factor(dataset$Username),\n",
    "  month = dataset$month\n",
    ")"
   ]
  },
  {
   "cell_type": "markdown",
   "id": "fe66b0bf",
   "metadata": {},
   "source": [
    "## 06 - setup dataset model 2.1"
   ]
  },
  {
   "cell_type": "code",
   "execution_count": null,
   "id": "d155c662",
   "metadata": {},
   "outputs": [],
   "source": [
    "model2.1 <- data.frame(\n",
    "  follower.count = dataset$followers.new,\n",
    "  gender = dataset$gender,\n",
    "  num.Followees = dataset$followees,\n",
    "  is.business = dataset$is.business,\n",
    "  is.verified = dataset$is.verified,\n",
    "  num.Posts = dataset$num_posts,\n",
    "  account.age = dataset$age,\n",
    "  is.located = dataset$Location != 'None',\n",
    "  num.Hashtags = dataset$TotalNumHashtags,\n",
    "  topic.post = dataset$Topic.Post,\n",
    "  num.Mentions = dataset$TotalNumMentions,\n",
    "  is.carousel = dataset$Product.Type == 'carousel_container',\n",
    "  post.length = unlist(dataset$NumWords),\n",
    "  sentiment = dataset$sentiment.label,\n",
    "  likes = dataset$Likes,\n",
    "  comments = dataset$Comments\n",
    ")"
   ]
  },
  {
   "cell_type": "markdown",
   "id": "4e677950",
   "metadata": {},
   "source": [
    "## 07 - setup dataset model 2.2"
   ]
  },
  {
   "cell_type": "code",
   "execution_count": null,
   "id": "fd50cba7",
   "metadata": {},
   "outputs": [],
   "source": [
    "model2.2 <- data.frame(\n",
    "  follower.class = dataset$size.new,\n",
    "  follower.count = dataset$followers.new,\n",
    "  gender = dataset$gender,\n",
    "  num.Followees = dataset$followees,\n",
    "  is.business = dataset$is.business,\n",
    "  is.verified = dataset$is.verified,\n",
    "  num.Posts = dataset$num_posts,\n",
    "  account.age = dataset$age,\n",
    "  is.located = dataset$Location != 'None',\n",
    "  num.Hashtags = dataset$TotalNumHashtags,\n",
    "  topic.post = dataset$Topic.Post,\n",
    "  num.Mentions = dataset$TotalNumMentions,\n",
    "  is.carousel = dataset$Product.Type == 'carousel_container',\n",
    "  post.length = unlist(dataset$NumWords),\n",
    "  sentiment = dataset$sentiment.label,\n",
    "  likes = dataset$Likes,\n",
    "  comments = dataset$Comments\n",
    ")"
   ]
  },
  {
   "cell_type": "markdown",
   "id": "4b7e71f9",
   "metadata": {},
   "source": [
    "## 08 - study 2\n",
    "\n",
    "#### 08.01 - Data wrangling"
   ]
  },
  {
   "cell_type": "code",
   "execution_count": null,
   "id": "02794679",
   "metadata": {},
   "outputs": [],
   "source": [
    "study2$age <- mapply(FUN = monthdiffsTo, study2$created, study2$my)\n",
    "\n",
    "study2$Words <- strsplit(study2$Text, \" \")\n",
    "study2$NumWords <- lapply(X = study2$Words, FUN = length)"
   ]
  },
  {
   "cell_type": "markdown",
   "id": "19137bd3",
   "metadata": {},
   "source": [
    "### 08.02 - setup dataset study 2"
   ]
  },
  {
   "cell_type": "code",
   "execution_count": null,
   "id": "592be3ab",
   "metadata": {},
   "outputs": [],
   "source": [
    "model.study2 <- data.frame(\n",
    "  follower.count = study2$followers.posttime,\n",
    "  gender = study2$gender,\n",
    "  num.Followees = study2$followees.posttime,\n",
    "  is.business = study2$is.business,\n",
    "  is.verified = study2$is.verified,\n",
    "  num.Posts = study2$mediacount.posttime,\n",
    "  account.age = study2$age,\n",
    "  is.located = study2$Location != 'None',\n",
    "  num.Hashtags = study2$TotalNumHashtags,\n",
    "  topic.post = study2$post.topic,\n",
    "  num.Mentions = study2$TotalNumMentions,\n",
    "  is.carousel = study2$Product.Type == 'carousel_container',\n",
    "  post.length = unlist(study2$NumWords),\n",
    "  sentiment = study2$sentiment.label,\n",
    "  username = study2$Username\n",
    ")"
   ]
  },
  {
   "cell_type": "code",
   "execution_count": null,
   "id": "17b3f5c0",
   "metadata": {},
   "outputs": [],
   "source": [
    "remove(list = setdiff(ls(), c(\"model1\", \"model2.1\", \"model2.2\", \"model.study2\")))         # remove everything that is not needed for running the model estimation"
   ]
  }
 ],
 "metadata": {
  "kernelspec": {
   "display_name": "R",
   "language": "R",
   "name": "ir"
  },
  "language_info": {
   "codemirror_mode": "r",
   "file_extension": ".r",
   "mimetype": "text/x-r-source",
   "name": "R",
   "pygments_lexer": "r",
   "version": "4.2.3"
  }
 },
 "nbformat": 4,
 "nbformat_minor": 5
}
