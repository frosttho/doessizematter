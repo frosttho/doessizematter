{
 "cells": [
  {
   "cell_type": "markdown",
   "id": "21aa8621",
   "metadata": {},
   "source": [
    "_Does size matter? The effect of Instagram influencer account size on post sentiment and resulting marketing outcomes_\n",
    "\n",
    "_Master's thesis by Thomas A. Frost_"
   ]
  },
  {
   "cell_type": "markdown",
   "id": "3b96842b",
   "metadata": {},
   "source": [
    "# Part 11: Study 2\n",
    "\n",
    "This file combines steps from Parts 1-10 in a condensed place for the data of Study 2. This file might sometimes be necessary to run before the corresponding model in Part 10."
   ]
  },
  {
   "cell_type": "markdown",
   "id": "09e3ddba",
   "metadata": {},
   "source": [
    "## 01 - Setup"
   ]
  },
  {
   "cell_type": "code",
   "execution_count": null,
   "id": "5207a8e0",
   "metadata": {},
   "outputs": [],
   "source": [
    "library(tidyverse)"
   ]
  },
  {
   "cell_type": "markdown",
   "id": "bf2277cb",
   "metadata": {},
   "source": [
    "## 03 - Data Import"
   ]
  },
  {
   "cell_type": "code",
   "execution_count": null,
   "id": "e1c03e54",
   "metadata": {},
   "outputs": [],
   "source": [
    "posts <- read_csv(\"../data/processed-dataset_Study2.csv\", col_types = \"nccnccnfnc\")\n",
    "posts_preproc <- read_tsv(\"../data/Instagram__Posts_corrected_SiEBERT-input.tsv\", col_types = \"ccncccnncccfcnc\")\n",
    "results <- read_csv(\"../data/predicted-full_Study2.csv\", col_types = \"ncnfn\")\n",
    "profiles <- read_csv(\"../data/profiles_v2.csv\")\n",
    "profile_gender <- read_csv2(\"../data/profiles_gender.csv\")\n",
    "\n",
    "followers <- read_csv(\"../data/followers_hist.csv\")\n",
    "followees <- read_csv(\"../data/followees_hist.csv\", col_types = \"Dncnn\")\n",
    "mediacount <- read_csv(\"../data/mediacount_hist.csv\", col_types = \"Dncnn\")\n",
    "\n",
    "topics <- read_csv(\"../data/study2_topics_posts.csv\", col_types = \"fc\")\n",
    "\n",
    "\n",
    "all.equal(posts$Text, results$text)   # Check for equality of post captions"
   ]
  },
  {
   "cell_type": "code",
   "execution_count": null,
   "id": "dda47fd7",
   "metadata": {},
   "outputs": [],
   "source": [
    "results$text <- gsub(\"\\\\n\", ' ', results$text)        # Remove line breaks\n",
    "results$text <- gsub(\"^\\\\.+$\", '', results$text)      # remove all captions that only contain dots as the language identifier reads them as file paths ~tf\n",
    "\n",
    "posts$Text <- gsub(\"\\\\n\", ' ', posts$Text)        # Remove line breaks\n",
    "posts$Text <- gsub(\"^\\\\.+$\", '', posts$Text)      # Exclude all Texts that only contain dots as the language identifier reads them as file paths ~tf"
   ]
  },
  {
   "cell_type": "markdown",
   "id": "62c52647",
   "metadata": {},
   "source": [
    "## 04 - Merging"
   ]
  },
  {
   "cell_type": "code",
   "execution_count": null,
   "id": "4ec1409c",
   "metadata": {},
   "outputs": [],
   "source": [
    "finaldataset <- cbind(posts, results$label, results$score)\n",
    "colnames(finaldataset)[2] <- \"Username\"\n",
    "\n",
    "finaldataset <- left_join(finaldataset, profiles, by = \"Username\")\n",
    "finaldataset <- left_join(finaldataset, data.frame(Username = profile_gender$Username, gender = profile_gender$gender), by = \"Username\")\n",
    "\n",
    "finaldataset$gender <- as.factor(finaldataset$gender)\n",
    "\n",
    "finaldataset <- finaldataset[-1]\n",
    "\n",
    "# delete duplicates\n",
    "duplicates <- as.data.frame(1:length(as.vector(duplicated(finaldataset$`Post ID`)))*as.vector(duplicated(finaldataset$`Post ID`)))\n",
    "colnames(duplicates) <- (\"row\")\n",
    "duplicates <- as.vector(filter(duplicates, row != 0))\n",
    "\n",
    "finaldataset <- finaldataset[-unlist(duplicates),]"
   ]
  },
  {
   "cell_type": "markdown",
   "id": "e240c62e",
   "metadata": {},
   "source": [
    "## 05 - Delete further nonsense"
   ]
  },
  {
   "cell_type": "code",
   "execution_count": null,
   "id": "10d94af1",
   "metadata": {},
   "outputs": [],
   "source": [
    "finaldataset <- filter(finaldataset, is.na(finaldataset$Text) == FALSE) # empty because it contained only emojis\n",
    "finaldataset <- finaldataset[-c(9,14)]"
   ]
  },
  {
   "cell_type": "markdown",
   "id": "f97ca763",
   "metadata": {},
   "source": [
    "### 05.01 - new variable NumOfMentions"
   ]
  },
  {
   "cell_type": "code",
   "execution_count": null,
   "id": "4bc76c66",
   "metadata": {},
   "outputs": [],
   "source": [
    "finaldataset$Words <- strsplit(finaldataset$Text, \" \")\n",
    "\n",
    "countmentions <- function(liste) {\n",
    "  i <- 0\n",
    "  if(length(unlist(liste)) != 0) {\n",
    "    for (j in 1:length(liste)) {\n",
    "      if(substring(liste[j], 1, 1) == \"@\") {\n",
    "        i <- i + 1\n",
    "      }\n",
    "    }\n",
    "  } else {\n",
    "    i <- 0\n",
    "  }\n",
    "  return(i)\n",
    "}\n",
    "\n",
    "finaldataset$TotalNumMentions <- sapply(finaldataset$Words, countmentions)\n",
    "\n",
    "# delete captions that only contain hashtags or mentions\n",
    "hashtag_mention_detection <- function(strng) {\n",
    "  hashtag <- substring(strng, 1, 1) == \"#\"\n",
    "  mention <- substring(strng, 1, 1) == \"@\"\n",
    "  return(hashtag | mention)\n",
    "}\n",
    "\n",
    "finaldataset$refs <- lapply(finaldataset$Words, hashtag_mention_detection)\n",
    "\n",
    "onlyrefs <- function(wordlist) {\n",
    "  return(all(unlist(wordlist)))\n",
    "}\n",
    "\n",
    "finaldataset$onlyrefs <- sapply(finaldataset$refs, onlyrefs)\n",
    "\n",
    "finaldataset <- filter(finaldataset, onlyrefs == FALSE)\n",
    "\n",
    "finaldataset <- finaldataset[-c(27,29,30)]\n",
    "\n",
    "colnames(finaldataset) <- c(\"Username\", \"Post.ID\", \"Comments\", \"Title\", \"Text\", \"Likes\", \"Product.Type\", \"TotalNumHashtags\", \"sentiment.label\", \"sentiment.score\", \"followers.old\", \"size.old\", \"User.ID\", \"is.private\", \"mediacount\", \"followers.new\", \"followees\", \"external_url\", \"is.business\", \"business.category\", \"biography\", \"fullname\", \"is.verified\", \"profilepic\", \"size.new\", \"gender\", \"TotalNumMentions\")\n",
    "\n",
    "posts_preproc$date <- substr(posts_preproc$`Date UTC`, 1, 10)\n",
    "posts_preproc$date <- as.Date(posts_preproc$date)\n",
    "posts_preproc$my <- paste(month(posts_preproc$date), year(posts_preproc$date), sep = \"/\")\n",
    "\n",
    "finaldataset <- left_join(finaldataset, data.frame(Post.ID = posts_preproc$`Post ID`, my = posts_preproc$my, Location = posts_preproc$`Location of Post`), by = \"Post.ID\", na_matches = \"never\", multiple = \"first\")"
   ]
  },
  {
   "cell_type": "markdown",
   "id": "5c679643",
   "metadata": {},
   "source": [
    "## 06 - generate full follower history\n",
    "\n",
    "in this section, missing values in the follower history from SocialBlade are linearly interpolated and added"
   ]
  },
  {
   "cell_type": "code",
   "execution_count": null,
   "id": "8eda356c",
   "metadata": {},
   "outputs": [],
   "source": [
    "followers$my <- paste(followers$month, followers$year, sep = \"/\")\n",
    "my_vector <- paste(rep(1:12, 4), c(rep(2019, 12), rep(2020, 12), rep(2021, 12), rep(2022, 12)), sep = \"/\")\n",
    "\n",
    "num_users <- length(levels(as.factor(followers$username)))\n",
    "\n",
    "followers <- left_join(data.frame(my = rep(my_vector, num_users), username = rep(levels(as.factor(followers$username)), each = 48)), followers, by = c(\"my\", \"username\"))\n",
    "\n",
    "followers$organic <- FALSE\n",
    "followers[(is.na(followers$followers) == FALSE),]$organic <- TRUE\n",
    "\n",
    "getMonth <- function(string) {\n",
    "  return(strsplit(string, \"/\")[[1]][1])\n",
    "}\n",
    "\n",
    "getYear <- function(string) {\n",
    "  return(strsplit(string, \"/\")[[1]][2])\n",
    "}\n",
    "\n",
    "\n",
    "followers[(followers$organic == FALSE),]$month <- sapply(followers[(followers$organic == FALSE),]$my, getMonth)\n",
    "followers[(followers$organic == FALSE),]$year <- sapply(followers[(followers$organic == FALSE),]$my, getYear)\n",
    "\n",
    "followers$month <- as.numeric(followers$month)\n",
    "followers$year <- as.numeric(followers$year)\n",
    "\n",
    "followers$monthcont <- ((followers$year - 2019) * 12) + followers$month\n",
    "\n",
    "ContextAwareFill <- function(user, followers) {\n",
    "  counter_i = 0\n",
    "  counter_j = 0\n",
    "  for (i in 1:48) {\n",
    "    if (is.na(filter(followers, username == user)$followers[i]) == FALSE) {\n",
    "    } else {\n",
    "      for (j in i+1:48) {\n",
    "        if (is.na(filter(followers, username == user)$followers[j]) == FALSE) {\n",
    "          counter_j <- j\n",
    "          break\n",
    "        }\n",
    "      }\n",
    "      i.1_value <- filter(followers, username == user)$followers[i-1]\n",
    "      j_value <- filter(followers, username == user)$followers[j]\n",
    "      \n",
    "      new_value <- round(i.1_value + ((j_value - i.1_value) / (counter_j-i+1)))\n",
    "      \n",
    "      followers[(followers$username == user & followers$monthcont == i),]$followers <- new_value\n",
    "    }\n",
    "  }\n",
    "  return(followers)\n",
    "}\n",
    "\n",
    "\n",
    "for (i in 1:length(levels(as.factor(followers$username)))) {\n",
    "  followers <- ContextAwareFill(levels(as.factor(followers$username))[i], followers = followers)\n",
    "}"
   ]
  },
  {
   "cell_type": "markdown",
   "id": "1c7f0ed7",
   "metadata": {},
   "source": [
    "## 07 - additional SocialBlade measures"
   ]
  },
  {
   "cell_type": "code",
   "execution_count": null,
   "id": "1b4da9c7",
   "metadata": {},
   "outputs": [],
   "source": [
    "followees$my <- paste(followees$month, followees$year, sep = \"/\")\n",
    "mediacount$my <- paste(mediacount$month, mediacount$year, sep = \"/\")\n",
    "\n",
    "\n",
    "socialblade.measures <- left_join(select(followers, username, my, organic, monthcont, followers), select(followees, followees, username, my), by = join_by(username, my), na_matches=\"never\")\n",
    "socialblade.measures <- left_join(socialblade.measures, select(mediacount, mediacount, username, my), by = join_by(username, my), na_matches=\"never\")\n",
    "\n",
    "ContextAwareFillFollowees <- function(user, sb.m) {\n",
    "  counter_i = 0\n",
    "  counter_j = 0\n",
    "  for (i in 1:48) {\n",
    "    if (is.na(filter(sb.m, username == user)$followees[i]) == FALSE) {\n",
    "    } else {\n",
    "      for (j in i+1:48) {\n",
    "        if (is.na(filter(sb.m, username == user)$followees[j]) == FALSE) {\n",
    "          counter_j <- j\n",
    "          break\n",
    "        }\n",
    "      }\n",
    "      i.1_value <- filter(sb.m, username == user)$followees[i-1]\n",
    "      j_value <- filter(sb.m, username == user)$followees[j]\n",
    "      \n",
    "      new_value <- round(i.1_value + ((j_value - i.1_value) / (counter_j-i+1)))\n",
    "      \n",
    "      sb.m[(sb.m$username == user & sb.m$monthcont == i),]$followees <- new_value\n",
    "    }\n",
    "  }\n",
    "  return(sb.m)\n",
    "}\n",
    "\n",
    "ContextAwareFillMediaCount <- function(user, sb.m) {\n",
    "  counter_i = 0\n",
    "  counter_j = 0\n",
    "  for (i in 1:48) {\n",
    "    if (is.na(filter(sb.m, username == user)$mediacount[i]) == FALSE) {\n",
    "    } else {\n",
    "      for (j in i+1:48) {\n",
    "        if (is.na(filter(sb.m, username == user)$mediacount[j]) == FALSE) {\n",
    "          counter_j <- j\n",
    "          break\n",
    "        }\n",
    "      }\n",
    "      i.1_value <- filter(sb.m, username == user)$mediacount[i-1]\n",
    "      j_value <- filter(sb.m, username == user)$mediacount[j]\n",
    "      \n",
    "      new_value <- round(i.1_value + ((j_value - i.1_value) / (counter_j-i+1)))\n",
    "      \n",
    "      sb.m[(sb.m$username == user & sb.m$monthcont == i),]$mediacount <- new_value\n",
    "    }\n",
    "  }\n",
    "  return(sb.m)\n",
    "}\n",
    "\n",
    "for (i in 1:length(levels(as.factor(socialblade.measures$username)))) {\n",
    "  socialblade.measures <- ContextAwareFillFollowees(levels(as.factor(socialblade.measures$username))[i], sb.m = socialblade.measures)\n",
    "}\n",
    "\n",
    "for (i in 1:length(levels(as.factor(socialblade.measures$username)))) {\n",
    "  socialblade.measures <- ContextAwareFillMediaCount(levels(as.factor(socialblade.measures$username))[i], sb.m = socialblade.measures)\n",
    "}\n",
    "\n",
    "\n",
    "finaldataset.sb <- left_join(finaldataset, select(socialblade.measures, Username = username, my, followers.posttime = followers, followees.posttime = followees, mediacount.posttime = mediacount), by = join_by(Username, my), na_matches = \"never\")"
   ]
  },
  {
   "cell_type": "markdown",
   "id": "5025066f",
   "metadata": {},
   "source": [
    "## 08 - add topics from topic modelling"
   ]
  },
  {
   "cell_type": "code",
   "execution_count": null,
   "id": "9d236057",
   "metadata": {},
   "outputs": [],
   "source": [
    "finaldataset.sb <- left_join(finaldataset.sb, select(topics, Post.ID, post.topic = label), by = \"Post.ID\", na_matches = \"never\", multiple = \"first\")"
   ]
  },
  {
   "cell_type": "markdown",
   "id": "4bf32f41",
   "metadata": {},
   "source": [
    "## EXPORT"
   ]
  },
  {
   "cell_type": "code",
   "execution_count": null,
   "id": "35d81f81",
   "metadata": {},
   "outputs": [],
   "source": [
    "write_csv(finaldataset.sb, \"../data/study2_data_socialblade_topics.csv\")"
   ]
  }
 ],
 "metadata": {
  "kernelspec": {
   "display_name": "R",
   "language": "R",
   "name": "ir"
  },
  "language_info": {
   "codemirror_mode": "r",
   "file_extension": ".r",
   "mimetype": "text/x-r-source",
   "name": "R",
   "pygments_lexer": "r",
   "version": "4.2.3"
  }
 },
 "nbformat": 4,
 "nbformat_minor": 5
}
