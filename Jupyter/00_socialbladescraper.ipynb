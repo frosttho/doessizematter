{
  "cells": [
    {
      "cell_type": "markdown",
      "id": "6dc72bfa",
      "metadata": {
        "id": "6dc72bfa"
      },
      "source": [
        "_Does size matter? The effect of Instagram influencer account size on post sentiment and resulting marketing outcomes_\n",
        "\n",
        "_Master's thesis by Thomas A. Frost_"
      ]
    },
    {
      "cell_type": "markdown",
      "id": "a326a63e",
      "metadata": {
        "id": "a326a63e"
      },
      "source": [
        "# Part 0: SocialBlade Scraper\n",
        "\n",
        "It is necessary to download the SocialBlade pages as html files and save them in the corresponding folder. The GitHub folder contains a set of downloaded profiles\n",
        "\n",
        "This file serves two puropses:\n",
        "\n",
        "1. Determine suitable accounts for study 2 by manually reviewing all graphs of total media count per user over time (section 5 \"profile selection\")\n",
        "1. Data collection for the study 2 datasets (sections 6-8)"
      ]
    },
    {
      "cell_type": "markdown",
      "id": "3271370c",
      "metadata": {
        "id": "3271370c"
      },
      "source": [
        "## 01 - Library Installs"
      ]
    },
    {
      "cell_type": "code",
      "execution_count": null,
      "id": "84a0818a",
      "metadata": {
        "id": "84a0818a"
      },
      "outputs": [],
      "source": [
        "install.packages('rvest')\n",
        "install.packages('textclean')\n",
        "install.packages('xml2')\n",
        "install.packages('tidyverse')\n",
        "install.packages('jsonlite')"
      ]
    },
    {
      "cell_type": "markdown",
      "id": "f7c4e971",
      "metadata": {
        "id": "f7c4e971"
      },
      "source": [
        "## 02 - Loading"
      ]
    },
    {
      "cell_type": "code",
      "execution_count": null,
      "id": "f4d2d607",
      "metadata": {
        "id": "f4d2d607"
      },
      "outputs": [],
      "source": [
        "library(xml2)\n",
        "library(tidyverse)\n",
        "library(rvest)\n",
        "library(textclean)\n",
        "library(jsonlite)"
      ]
    },
    {
      "cell_type": "markdown",
      "id": "61d21c47",
      "metadata": {
        "id": "61d21c47"
      },
      "source": [
        "## 03 - Functions"
      ]
    },
    {
      "cell_type": "code",
      "execution_count": null,
      "id": "d94d2796",
      "metadata": {
        "id": "d94d2796"
      },
      "outputs": [],
      "source": [
        "getSBFromHTML <- function(file, diagrname) {\n",
        "  # read HTML file\n",
        "  html_read <- read_html(file)\n",
        "\n",
        "  # identify script tags\n",
        "  scripts <- html_elements(x = html_read, css = 'body script')\n",
        "\n",
        "  # identify script tag with Highchart data and replace escaped characters\n",
        "  script <- html_text(scripts[grepl('Highcharts', html_text(scripts))])\n",
        "  script <- replace_white(script)\n",
        "\n",
        "  # identify single diagram definitions\n",
        "  fc_pos <- gregexec('Highcharts\\\\.chart\\\\(.*?\\\\{', script)\n",
        "\n",
        "  start <- as.vector(unlist(fc_pos)) + as.vector(attr(fc_pos[[1]], \"match.length\")) - 1\n",
        "  stop <- as.vector(unlist(fc_pos))[-1] - 4\n",
        "\n",
        "  stop <- append(stop, nchar(script) - 7)\n",
        "\n",
        "  fc_pos <- data.frame(start, stop)\n",
        "\n",
        "  # extract single diagram definitions\n",
        "  function_calls <- substring(\n",
        "    text = script,\n",
        "    first = fc_pos$start,\n",
        "    last = fc_pos$stop\n",
        "  )\n",
        "\n",
        "  # search for diagram names\n",
        "  name_pos <- gregexec(\"Highcharts\\\\.chart\\\\('.*?'\", script)\n",
        "\n",
        "  names <- substring(\n",
        "    text = script,\n",
        "    first = as.vector(unlist(name_pos)) + 18,\n",
        "    last = as.vector(unlist(name_pos)) + as.vector(attr(name_pos[[1]], \"match.length\")) - 2\n",
        "  )\n",
        "\n",
        "  # search for diagram data\n",
        "  data_pos <- gregexec('data: \\\\[\\\\[.*?\\\\]\\\\]', function_calls)\n",
        "\n",
        "  start <- unlist(data_pos)\n",
        "  stop <-  start + as.vector(unlist(lapply(data_pos, function(listitem) {attr(listitem, \"match.length\")})))\n",
        "\n",
        "  data_pos <- data.frame(start = start + 6, stop)\n",
        "\n",
        "  # extract diagram data\n",
        "  data <- substring(\n",
        "    text = function_calls,\n",
        "    first = data_pos$start,\n",
        "    last = data_pos$stop\n",
        "  )\n",
        "\n",
        "  data <- data.frame(data, name = names)\n",
        "\n",
        "  # save diagram data as R data object\n",
        "  return(as.data.frame(fromJSON(\n",
        "    filter(data, name == diagrname)$data\n",
        "  )))\n",
        "}\n",
        "\n",
        "getsize <- function(followers) {\n",
        "  result <- case_when(\n",
        "    (followers <= 1000) ~ NA,\n",
        "    (followers > 1000 && followers <= 10000) ~ \"nano\",\n",
        "    (followers > 10000 && followers <= 50000) ~ \"mikro\",\n",
        "    (followers > 50000 && followers <= 500000) ~ \"midtier\",\n",
        "    (followers > 500000 && followers <= 1000000) ~ \"makro\",\n",
        "    (followers > 1000000) ~ \"mega\"\n",
        "  )\n",
        "  return(result)\n",
        "}\n",
        "\n",
        "\n",
        "# Function to show the graph of number of media items in profile\n",
        "getMediaPlot <- function(user) {\n",
        "  df <- getSBFromHTML(paste('socialblade_data/', user, '.htm', sep = \"\"), 'graph-instagram-monthly-media-container')\n",
        "  df$V1 <- as.Date(as.POSIXct(df$V1 / 1000, origin=\"1970-01-01\"))\n",
        "\n",
        "  plot <- ggplot(data = df, aes(x = V1, y = V2)) +\n",
        "    geom_point() +\n",
        "    geom_line() +\n",
        "    ylab(\"Number of posts online\") +\n",
        "    xlab(\"Date\") +\n",
        "    ggtitle(paste(\"graph for user\", user)) +\n",
        "    theme_light()\n",
        "\n",
        "  plot\n",
        "}\n",
        "\n",
        "\n",
        "# Function to return followers of a specific user\n",
        "getFollowers <- function(user) {\n",
        "  df <- getSBFromHTML(paste('socialblade_data/', user, '.htm', sep = \"\"), 'graph-instagram-monthly-followers-container')\n",
        "  df$V1 <- as.Date(as.POSIXct(df$V1 / 1000, origin=\"1970-01-01\"))\n",
        "  df$size <- sapply(df$V2, getsize)\n",
        "  df$Username <- user\n",
        "  return(df)\n",
        "}\n",
        "\n",
        "# Function to return followees of a specific user\n",
        "getFollowees <- function(user) {\n",
        "  df <- getSBFromHTML(paste('socialblade_data/', user, '.htm', sep = \"\"), 'graph-instagram-monthly-following-container')\n",
        "  df$V1 <- as.Date(as.POSIXct(df$V1 / 1000, origin=\"1970-01-01\"))\n",
        "  df$Username <- user\n",
        "  return(df)\n",
        "}\n",
        "\n",
        "# Function to return followees of a specific user\n",
        "getMediaCount <- function(user) {\n",
        "  df <- getSBFromHTML(paste('socialblade_data/', user, '.htm', sep = \"\"), 'graph-instagram-monthly-media-container')\n",
        "  df$V1 <- as.Date(as.POSIXct(df$V1 / 1000, origin=\"1970-01-01\"))\n",
        "  df$Username <- user\n",
        "  return(df)\n",
        "}"
      ]
    },
    {
      "cell_type": "markdown",
      "id": "c64f5944",
      "metadata": {
        "id": "c64f5944"
      },
      "source": [
        "## 04 - Import\n"
      ]
    },
    {
      "cell_type": "code",
      "execution_count": null,
      "id": "14a15607",
      "metadata": {
        "id": "14a15607"
      },
      "outputs": [],
      "source": []
    }
  ],
  "metadata": {
    "kernelspec": {
      "display_name": "R",
      "language": "R",
      "name": "ir"
    },
    "language_info": {
      "codemirror_mode": "r",
      "file_extension": ".r",
      "mimetype": "text/x-r-source",
      "name": "R",
      "pygments_lexer": "r",
      "version": "4.2.3"
    },
    "colab": {
      "provenance": []
    }
  },
  "nbformat": 4,
  "nbformat_minor": 5
}