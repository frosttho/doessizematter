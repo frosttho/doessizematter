{
  "nbformat": 4,
  "nbformat_minor": 0,
  "metadata": {
    "colab": {
      "provenance": [],
      "authorship_tag": "ABX9TyPcoW3vmZwGdlY87TdEfuIg"
    },
    "kernelspec": {
      "name": "python3",
      "display_name": "Python 3"
    },
    "language_info": {
      "name": "python"
    }
  },
  "cells": [
    {
      "cell_type": "markdown",
      "source": [
        "# Does size matter? - The effect of Instagram influencer account size on post sentiment and resulting marketing outcomes\n",
        "\n",
        "_Master's thesis by Thomas A. Frost_\n",
        "\n",
        "___\n",
        "\n",
        "\n",
        "This Jupyter Notebook is intended as a starting point to load all required data from GitHub in a user's personal Google Drive. From there, the necessary steps to follow the thesis process can be triggered."
      ],
      "metadata": {
        "id": "xqeu1e5GDk5E"
      }
    },
    {
      "cell_type": "markdown",
      "source": [
        "## Get access to personal Google Drive"
      ],
      "metadata": {
        "id": "57W_mvBxEJ0Q"
      }
    },
    {
      "cell_type": "code",
      "execution_count": null,
      "metadata": {
        "id": "nAkdel3PDgiC"
      },
      "outputs": [],
      "source": [
        "from google.colab import drive\n",
        "drive.mount('/content/drive')"
      ]
    },
    {
      "cell_type": "markdown",
      "source": [
        "## clone data from GitHub"
      ],
      "metadata": {
        "id": "uf239cdEESRe"
      }
    },
    {
      "cell_type": "code",
      "source": [
        "! git clone https://github.com/frosttho/doessizematter"
      ],
      "metadata": {
        "id": "a7KwHvDxEaPQ"
      },
      "execution_count": null,
      "outputs": []
    },
    {
      "cell_type": "code",
      "source": [
        "%cd doessizemtter/Jupyter"
      ],
      "metadata": {
        "id": "JVmExtmhEyLC"
      },
      "execution_count": null,
      "outputs": []
    },
    {
      "cell_type": "markdown",
      "source": [
        "## You are all set!\n",
        "\n",
        "Use the folder icon on the left to start navigate to the first Jupyter Notebook and start executing the code."
      ],
      "metadata": {
        "id": "hf08gjMwEsSo"
      }
    }
  ]
}